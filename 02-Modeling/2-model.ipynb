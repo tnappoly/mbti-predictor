{
 "cells": [
  {
   "cell_type": "markdown",
   "metadata": {},
   "source": [
    "# Modeling Rd. 2\n",
    "---\n",
    "This round I wanted to subset my data into four distinct categories ordered by number of posts."
   ]
  },
  {
   "cell_type": "markdown",
   "metadata": {},
   "source": [
    "## Imports"
   ]
  },
  {
   "cell_type": "code",
   "execution_count": 1,
   "metadata": {},
   "outputs": [],
   "source": [
    "# Data Analysis\n",
    "import pandas as pd\n",
    "import numpy as np\n",
    "\n",
    "# Data Visualization\n",
    "import seaborn as sns\n",
    "import matplotlib.pyplot as plt\n",
    "\n",
    "# Text Processing\n",
    "from sklearn.preprocessing import LabelEncoder\n",
    "from nltk.corpus import stopwords\n",
    "\n",
    "# Machine Learning packages\n",
    "from sklearn.feature_extraction.text import CountVectorizer\n",
    "\n",
    "# Model training and evaluation\n",
    "from sklearn.model_selection import train_test_split\n",
    "from sklearn.metrics import classification_report, accuracy_score\n",
    "\n",
    "# Models\n",
    "from sklearn.linear_model import LogisticRegression\n",
    "from sklearn.naive_bayes import MultinomialNB\n",
    "from sklearn.neighbors import KNeighborsClassifier\n",
    "from sklearn.ensemble import RandomForestClassifier"
   ]
  },
  {
   "cell_type": "markdown",
   "metadata": {},
   "source": [
    "### Load in the data"
   ]
  },
  {
   "cell_type": "code",
   "execution_count": 2,
   "metadata": {},
   "outputs": [
    {
     "data": {
      "text/html": [
       "<div>\n",
       "<style scoped>\n",
       "    .dataframe tbody tr th:only-of-type {\n",
       "        vertical-align: middle;\n",
       "    }\n",
       "\n",
       "    .dataframe tbody tr th {\n",
       "        vertical-align: top;\n",
       "    }\n",
       "\n",
       "    .dataframe thead th {\n",
       "        text-align: right;\n",
       "    }\n",
       "</style>\n",
       "<table border=\"1\" class=\"dataframe\">\n",
       "  <thead>\n",
       "    <tr style=\"text-align: right;\">\n",
       "      <th></th>\n",
       "      <th>type</th>\n",
       "      <th>posts</th>\n",
       "      <th>no. of. words</th>\n",
       "    </tr>\n",
       "  </thead>\n",
       "  <tbody>\n",
       "    <tr>\n",
       "      <th>0</th>\n",
       "      <td>INFJ</td>\n",
       "      <td>enfp  intj moments   sportscenter    plays...</td>\n",
       "      <td>344</td>\n",
       "    </tr>\n",
       "    <tr>\n",
       "      <th>1</th>\n",
       "      <td>ENTP</td>\n",
       "      <td>finding  lack    these posts very alarming   ...</td>\n",
       "      <td>639</td>\n",
       "    </tr>\n",
       "    <tr>\n",
       "      <th>2</th>\n",
       "      <td>INTP</td>\n",
       "      <td>good         course  which    know thats  bles...</td>\n",
       "      <td>215</td>\n",
       "    </tr>\n",
       "    <tr>\n",
       "      <th>3</th>\n",
       "      <td>INTJ</td>\n",
       "      <td>dear intp    enjoyed  conversation  other    e...</td>\n",
       "      <td>611</td>\n",
       "    </tr>\n",
       "    <tr>\n",
       "      <th>4</th>\n",
       "      <td>ENTJ</td>\n",
       "      <td>youre fired    thats another silly misconcepti...</td>\n",
       "      <td>315</td>\n",
       "    </tr>\n",
       "  </tbody>\n",
       "</table>\n",
       "</div>"
      ],
      "text/plain": [
       "   type                                              posts  no. of. words\n",
       "0  INFJ      enfp  intj moments   sportscenter    plays...            344\n",
       "1  ENTP   finding  lack    these posts very alarming   ...            639\n",
       "2  INTP  good         course  which    know thats  bles...            215\n",
       "3  INTJ  dear intp    enjoyed  conversation  other    e...            611\n",
       "4  ENTJ  youre fired    thats another silly misconcepti...            315"
      ]
     },
     "execution_count": 2,
     "metadata": {},
     "output_type": "execute_result"
    }
   ],
   "source": [
    "df = pd.read_csv('../data/clean_mbti_df.csv')\n",
    "df.head()"
   ]
  },
  {
   "cell_type": "code",
   "execution_count": 3,
   "metadata": {},
   "outputs": [
    {
     "data": {
      "text/plain": [
       "INFP    0.209578\n",
       "INFJ    0.169867\n",
       "INTP    0.151849\n",
       "INTJ    0.127193\n",
       "ENTP    0.078947\n",
       "ENFP    0.075273\n",
       "ISTP    0.038762\n",
       "ISFP    0.031532\n",
       "ENTJ    0.026671\n",
       "ISTJ    0.023945\n",
       "ENFJ    0.021219\n",
       "ISFJ    0.019440\n",
       "ESTP    0.010550\n",
       "ESFP    0.005571\n",
       "ESFJ    0.004979\n",
       "ESTJ    0.004623\n",
       "Name: type, dtype: float64"
      ]
     },
     "execution_count": 3,
     "metadata": {},
     "output_type": "execute_result"
    }
   ],
   "source": [
    "df['type'].value_counts(normalize=True)"
   ]
  },
  {
   "cell_type": "markdown",
   "metadata": {},
   "source": [
    "As you can see above, nearly half of our data is represented in the top four classes starting with the most prevalent class, 'INFP'. I plan to run a another round of modeling splitting the types category into groups of four in descending order of number of posts. I will split the categories into a heavy class, upper class, lower class, and finally a light class to extract more insight from this dataset.\n",
    "\n",
    "As I said before, I chose not to impute these values to have balanced classes so this will serve as a work around."
   ]
  },
  {
   "cell_type": "markdown",
   "metadata": {},
   "source": [
    "## Heavy Class Modeling\n",
    "---\n",
    "Heavy Class will include the top four categories with most the data ('INFP', 'INFJ', 'INTP', 'INTJ')"
   ]
  },
  {
   "cell_type": "markdown",
   "metadata": {},
   "source": [
    "## Feature Engineering"
   ]
  },
  {
   "cell_type": "code",
   "execution_count": 4,
   "metadata": {},
   "outputs": [],
   "source": [
    "# Use this bit of code to prevent long error messages, but be mindful that you may not see a message worth looking into when debugging code\n",
    "\n",
    "import warnings\n",
    "warnings.filterwarnings(\"ignore\")"
   ]
  },
  {
   "cell_type": "markdown",
   "metadata": {},
   "source": [
    "### Subsetting into heavy class"
   ]
  },
  {
   "cell_type": "code",
   "execution_count": 5,
   "metadata": {},
   "outputs": [
    {
     "name": "stdout",
     "output_type": "stream",
     "text": [
      "['INFJ' 'INTP' 'INTJ' 'INFP']\n",
      "(5555, 3)\n"
     ]
    }
   ],
   "source": [
    "# Subsetting the heavy class\n",
    "\n",
    "heavy_class = ['INFP','INFJ','INTP', 'INTJ']\n",
    "\n",
    "heavy_sample = df[df['type'].isin(heavy_class)]\n",
    "\n",
    "print(heavy_sample.type.unique())\n",
    "\n",
    "print(heavy_sample.shape)"
   ]
  },
  {
   "cell_type": "markdown",
   "metadata": {},
   "source": [
    "### Splitting data into X and y"
   ]
  },
  {
   "cell_type": "markdown",
   "metadata": {},
   "source": [
    "#### Binarizing target variables"
   ]
  },
  {
   "cell_type": "markdown",
   "metadata": {},
   "source": [
    "Binarizing target classes using LabelEncoder to convert categorical variables into a numeric form. Can very well accomplish using .map, .getdummies, .where functions. Utilizing a new tool to show yet another method of binarizing variables."
   ]
  },
  {
   "cell_type": "code",
   "execution_count": 6,
   "metadata": {},
   "outputs": [],
   "source": [
    "# Binarizing MBTI personality types(target feature) using LabelEncoder\n",
    "\n",
    "encoder = LabelEncoder()\n",
    "heavy_sample['class'] = encoder.fit_transform(heavy_sample['type'])\n",
    "\n",
    "# Defining y (target feature)\n",
    "y = heavy_sample['class']"
   ]
  },
  {
   "cell_type": "code",
   "execution_count": 7,
   "metadata": {},
   "outputs": [
    {
     "data": {
      "text/html": [
       "<div>\n",
       "<style scoped>\n",
       "    .dataframe tbody tr th:only-of-type {\n",
       "        vertical-align: middle;\n",
       "    }\n",
       "\n",
       "    .dataframe tbody tr th {\n",
       "        vertical-align: top;\n",
       "    }\n",
       "\n",
       "    .dataframe thead th {\n",
       "        text-align: right;\n",
       "    }\n",
       "</style>\n",
       "<table border=\"1\" class=\"dataframe\">\n",
       "  <thead>\n",
       "    <tr style=\"text-align: right;\">\n",
       "      <th></th>\n",
       "      <th>type</th>\n",
       "      <th>posts</th>\n",
       "      <th>no. of. words</th>\n",
       "      <th>class</th>\n",
       "    </tr>\n",
       "  </thead>\n",
       "  <tbody>\n",
       "    <tr>\n",
       "      <th>0</th>\n",
       "      <td>INFJ</td>\n",
       "      <td>enfp  intj moments   sportscenter    plays...</td>\n",
       "      <td>344</td>\n",
       "      <td>0</td>\n",
       "    </tr>\n",
       "    <tr>\n",
       "      <th>2</th>\n",
       "      <td>INTP</td>\n",
       "      <td>good         course  which    know thats  bles...</td>\n",
       "      <td>215</td>\n",
       "      <td>3</td>\n",
       "    </tr>\n",
       "    <tr>\n",
       "      <th>3</th>\n",
       "      <td>INTJ</td>\n",
       "      <td>dear intp    enjoyed  conversation  other    e...</td>\n",
       "      <td>611</td>\n",
       "      <td>2</td>\n",
       "    </tr>\n",
       "    <tr>\n",
       "      <th>5</th>\n",
       "      <td>INTJ</td>\n",
       "      <td>science    perfect   scientist claims tha...</td>\n",
       "      <td>189</td>\n",
       "      <td>2</td>\n",
       "    </tr>\n",
       "    <tr>\n",
       "      <th>6</th>\n",
       "      <td>INFJ</td>\n",
       "      <td>cant draw    nails haha  those were done  pr...</td>\n",
       "      <td>775</td>\n",
       "      <td>0</td>\n",
       "    </tr>\n",
       "  </tbody>\n",
       "</table>\n",
       "</div>"
      ],
      "text/plain": [
       "   type                                              posts  no. of. words  \\\n",
       "0  INFJ      enfp  intj moments   sportscenter    plays...            344   \n",
       "2  INTP  good         course  which    know thats  bles...            215   \n",
       "3  INTJ  dear intp    enjoyed  conversation  other    e...            611   \n",
       "5  INTJ       science    perfect   scientist claims tha...            189   \n",
       "6  INFJ    cant draw    nails haha  those were done  pr...            775   \n",
       "\n",
       "   class  \n",
       "0      0  \n",
       "2      3  \n",
       "3      2  \n",
       "5      2  \n",
       "6      0  "
      ]
     },
     "execution_count": 7,
     "metadata": {},
     "output_type": "execute_result"
    }
   ],
   "source": [
    "# Making sure that label encoding successully binarized type column\n",
    "\n",
    "heavy_sample.head()"
   ]
  },
  {
   "cell_type": "code",
   "execution_count": 8,
   "metadata": {},
   "outputs": [
    {
     "name": "stdout",
     "output_type": "stream",
     "text": [
      "[0 3 2 1]\n"
     ]
    }
   ],
   "source": [
    "print(heavy_sample['class'].unique())"
   ]
  },
  {
   "cell_type": "markdown",
   "metadata": {},
   "source": [
    "Great! Now there are 4 target features!"
   ]
  },
  {
   "cell_type": "code",
   "execution_count": 9,
   "metadata": {},
   "outputs": [
    {
     "data": {
      "text/plain": [
       "INFP    0.318272\n",
       "INFJ    0.257966\n",
       "INTP    0.230603\n",
       "INTJ    0.193159\n",
       "Name: type, dtype: float64"
      ]
     },
     "execution_count": 9,
     "metadata": {},
     "output_type": "execute_result"
    }
   ],
   "source": [
    "# Checking to see the class distributions. The heavy class is still imbalanced but significantly less so than the original dataframe.\n",
    "heavy_sample['type'].value_counts(normalize=True)"
   ]
  },
  {
   "cell_type": "markdown",
   "metadata": {},
   "source": [
    "### CountVectorizer"
   ]
  },
  {
   "cell_type": "code",
   "execution_count": 10,
   "metadata": {},
   "outputs": [],
   "source": [
    "# Preparing posts for model by vectorzing and filtering stop-words\n",
    "\n",
    "cvec = CountVectorizer(stop_words='english')\n",
    "\n",
    "X = cvec.fit_transform(heavy_sample['posts'])"
   ]
  },
  {
   "cell_type": "code",
   "execution_count": 11,
   "metadata": {},
   "outputs": [
    {
     "name": "stdout",
     "output_type": "stream",
     "text": [
      "Pre-Vectorized Shape: (5555, 4)\n",
      "Post-Vectorized Shape: (5555, 79508)\n"
     ]
    }
   ],
   "source": [
    "# pre-vectorized shape\n",
    "pre_vect = heavy_sample.shape\n",
    "# post-vectorized shape\n",
    "post_vect = X.shape\n",
    "\n",
    "print(f'Pre-Vectorized Shape: {pre_vect}')\n",
    "print(f'Post-Vectorized Shape: {post_vect}')"
   ]
  },
  {
   "cell_type": "markdown",
   "metadata": {},
   "source": [
    "### Train Test Split"
   ]
  },
  {
   "cell_type": "code",
   "execution_count": 12,
   "metadata": {},
   "outputs": [
    {
     "name": "stdout",
     "output_type": "stream",
     "text": [
      "(4444, 79508) (4444,) (1111, 79508) (1111,)\n"
     ]
    }
   ],
   "source": [
    "# Train test split\n",
    "\n",
    "X_train, X_test, y_train, y_test = train_test_split(X, y, \n",
    "                                                   test_size=0.2, stratify=y, random_state=42)\n",
    "\n",
    "print ((X_train.shape),(y_train.shape),(X_test.shape),(y_test.shape))"
   ]
  },
  {
   "cell_type": "code",
   "execution_count": 13,
   "metadata": {},
   "outputs": [],
   "source": [
    "# Starting an accuracies list here so I can compare the accuracies of all models by the end of the first round\n",
    "\n",
    "accuracies = {}\n"
   ]
  },
  {
   "cell_type": "markdown",
   "metadata": {},
   "source": [
    "### Logistic Regression\n",
    "---"
   ]
  },
  {
   "cell_type": "code",
   "execution_count": 14,
   "metadata": {},
   "outputs": [
    {
     "name": "stdout",
     "output_type": "stream",
     "text": [
      "              precision    recall  f1-score   support\n",
      "\n",
      "           0       0.67      0.64      0.66       287\n",
      "           1       0.66      0.73      0.69       353\n",
      "           2       0.64      0.64      0.64       215\n",
      "           3       0.68      0.63      0.65       256\n",
      "\n",
      "    accuracy                           0.66      1111\n",
      "   macro avg       0.66      0.66      0.66      1111\n",
      "weighted avg       0.66      0.66      0.66      1111\n",
      "\n"
     ]
    }
   ],
   "source": [
    "# Instantiate the model\n",
    "logreg = LogisticRegression()\n",
    "\n",
    "# Fit the model on the training data\n",
    "logreg.fit(X_train, y_train)\n",
    "\n",
    "# Make predictions\n",
    "preds = logreg.predict(X_test)\n",
    "\n",
    "# Model evaluation\n",
    "report = classification_report(y_test, preds)\n",
    "\n",
    "# Append scores to accuracies list\n",
    "accuracy = accuracy_score(y_test, preds)\n",
    "accuracies['Logistic Regression'] = accuracy* 100.0 \n",
    "\n",
    "print(report)"
   ]
  },
  {
   "cell_type": "code",
   "execution_count": 15,
   "metadata": {},
   "outputs": [],
   "source": [
    "logreg_train = logreg.score(X_train, y_train)\n",
    "\n",
    "logreg_test = logreg.score(X_test, y_test)"
   ]
  },
  {
   "cell_type": "code",
   "execution_count": 16,
   "metadata": {},
   "outputs": [
    {
     "name": "stdout",
     "output_type": "stream",
     "text": [
      "Training Accuracy:  1.0\n",
      "Testing Accuracy:  0.6642664266426642\n"
     ]
    }
   ],
   "source": [
    "print(f'Training Accuracy:  {logreg_train}')\n",
    "print(f'Testing Accuracy:  {logreg_test}')"
   ]
  },
  {
   "cell_type": "markdown",
   "metadata": {},
   "source": [
    "### Multinomial Naive Bayes\n",
    "---"
   ]
  },
  {
   "cell_type": "code",
   "execution_count": 17,
   "metadata": {},
   "outputs": [
    {
     "name": "stdout",
     "output_type": "stream",
     "text": [
      "              precision    recall  f1-score   support\n",
      "\n",
      "           0       0.62      0.56      0.59       287\n",
      "           1       0.55      0.80      0.65       353\n",
      "           2       0.71      0.33      0.46       215\n",
      "           3       0.62      0.57      0.59       256\n",
      "\n",
      "    accuracy                           0.60      1111\n",
      "   macro avg       0.63      0.57      0.57      1111\n",
      "weighted avg       0.62      0.60      0.58      1111\n",
      "\n"
     ]
    }
   ],
   "source": [
    "# Instantiate the model\n",
    "nb = MultinomialNB()\n",
    "\n",
    "# Fit the model on the training data\n",
    "nb.fit(X_train, y_train)\n",
    "\n",
    "# Make predictions\n",
    "preds = nb.predict(X_test)\n",
    "\n",
    "# Model evaluation\n",
    "report = classification_report(y_test, preds)\n",
    "\n",
    "# Append scores to accuracies list\n",
    "accuracy = accuracy_score(y_test, preds)\n",
    "accuracies['Multinomial Naive bayes'] = accuracy* 100.0 \n",
    "\n",
    "print(report)"
   ]
  },
  {
   "cell_type": "code",
   "execution_count": 18,
   "metadata": {},
   "outputs": [],
   "source": [
    "nb_train = nb.score(X_train, y_train)\n",
    "nb_test = nb.score(X_test, y_test)"
   ]
  },
  {
   "cell_type": "code",
   "execution_count": 19,
   "metadata": {},
   "outputs": [
    {
     "name": "stdout",
     "output_type": "stream",
     "text": [
      "Training Accuracy:  0.9423942394239424\n",
      "Testing Accuracy:  0.5958595859585959\n"
     ]
    }
   ],
   "source": [
    "print(f'Training Accuracy:  {nb_train}')\n",
    "print(f'Testing Accuracy:  {nb_test}')"
   ]
  },
  {
   "cell_type": "markdown",
   "metadata": {},
   "source": [
    "### K Nearest Neighbors Classifier\n",
    "---"
   ]
  },
  {
   "cell_type": "code",
   "execution_count": 20,
   "metadata": {},
   "outputs": [
    {
     "name": "stdout",
     "output_type": "stream",
     "text": [
      "              precision    recall  f1-score   support\n",
      "\n",
      "           0       0.32      0.50      0.39       287\n",
      "           1       0.41      0.61      0.49       353\n",
      "           2       0.52      0.11      0.18       215\n",
      "           3       0.53      0.18      0.27       256\n",
      "\n",
      "    accuracy                           0.39      1111\n",
      "   macro avg       0.45      0.35      0.34      1111\n",
      "weighted avg       0.44      0.39      0.36      1111\n",
      "\n"
     ]
    }
   ],
   "source": [
    "# Instantiate the model\n",
    "knn = KNeighborsClassifier()\n",
    "\n",
    "# Fit the model on the training data\n",
    "knn.fit(X_train, y_train)\n",
    "\n",
    "# Make predictions\n",
    "preds = knn.predict(X_test)\n",
    "\n",
    "# Model evaluation\n",
    "report = classification_report(y_test, preds)\n",
    "\n",
    "# Append scores to accuracies list\n",
    "accuracy = accuracy_score(y_test, preds)\n",
    "accuracies['KNN'] = accuracy* 100.0 \n",
    "\n",
    "print(report)"
   ]
  },
  {
   "cell_type": "code",
   "execution_count": 21,
   "metadata": {},
   "outputs": [],
   "source": [
    "knn_train = knn.score(X_train, y_train)\n",
    "knn_test = knn.score(X_test, y_test)"
   ]
  },
  {
   "cell_type": "code",
   "execution_count": 22,
   "metadata": {},
   "outputs": [
    {
     "name": "stdout",
     "output_type": "stream",
     "text": [
      "Training Accuracy:  0.5974347434743474\n",
      "Testing Accuracy:  0.38883888388838883\n"
     ]
    }
   ],
   "source": [
    "print(f'Training Accuracy:  {knn_train}')\n",
    "print(f'Testing Accuracy:  {knn_test}')"
   ]
  },
  {
   "cell_type": "markdown",
   "metadata": {},
   "source": [
    "### Randon Forest Classifier\n",
    "---"
   ]
  },
  {
   "cell_type": "code",
   "execution_count": 23,
   "metadata": {},
   "outputs": [
    {
     "name": "stdout",
     "output_type": "stream",
     "text": [
      "              precision    recall  f1-score   support\n",
      "\n",
      "           0       0.62      0.48      0.54       287\n",
      "           1       0.49      0.90      0.64       353\n",
      "           2       0.74      0.27      0.40       215\n",
      "           3       0.69      0.43      0.53       256\n",
      "\n",
      "    accuracy                           0.56      1111\n",
      "   macro avg       0.63      0.52      0.53      1111\n",
      "weighted avg       0.62      0.56      0.54      1111\n",
      "\n"
     ]
    }
   ],
   "source": [
    "# Instantiate the model\n",
    "rf = RandomForestClassifier()\n",
    "\n",
    "# Fit the model on the training data\n",
    "rf.fit(X_train, y_train)\n",
    "\n",
    "# Make predictions\n",
    "preds = rf.predict(X_test)\n",
    "\n",
    "# Model evaluation\n",
    "report = classification_report(y_test, preds)\n",
    "\n",
    "# Append scores to accuracies list\n",
    "accuracy = accuracy_score(y_test, preds)\n",
    "accuracies['Random Forest'] = accuracy* 100.0 \n",
    "\n",
    "print(report)"
   ]
  },
  {
   "cell_type": "code",
   "execution_count": 24,
   "metadata": {},
   "outputs": [],
   "source": [
    "rf_train = rf.score(X_train, y_train)\n",
    "rf_test = rf.score(X_test, y_test)"
   ]
  },
  {
   "cell_type": "code",
   "execution_count": 25,
   "metadata": {},
   "outputs": [
    {
     "name": "stdout",
     "output_type": "stream",
     "text": [
      "Training Accuracy:  1.0\n",
      "Testing Accuracy:  0.5625562556255626\n"
     ]
    }
   ],
   "source": [
    "print(f'Training Accuracy:  {rf_train}')\n",
    "print(f'Testing Accuracy:  {rf_test}')"
   ]
  },
  {
   "cell_type": "markdown",
   "metadata": {},
   "source": [
    "### Model Evaluation\n",
    "---"
   ]
  },
  {
   "cell_type": "code",
   "execution_count": 26,
   "metadata": {},
   "outputs": [
    {
     "name": "stdout",
     "output_type": "stream",
     "text": [
      " Logistic Regression \n",
      "Training Accuracy:  1.0\n",
      "Testing Accuracy:  0.6642664266426642\n",
      "\n",
      " Multinomial Naive Bayes \n",
      "Training Accuracy:  0.9423942394239424\n",
      "Testing Accuracy:  0.5958595859585959\n",
      "\n",
      " K Nearest Neighbors Classifier \n",
      "Training Accuracy:  0.5974347434743474\n",
      "Testing Accuracy:  0.38883888388838883\n",
      "\n",
      " Random Forest Classifier \n",
      "Training Accuracy:  1.0\n",
      "Testing Accuracy:  0.5625562556255626\n"
     ]
    }
   ],
   "source": [
    "# Model Scores\n",
    "print(\" Logistic Regression \".center(18, \"=\"))\n",
    "print(f'Training Accuracy:  {logreg_train}')\n",
    "print(f'Testing Accuracy:  {logreg_test}')\n",
    "print()\n",
    "print(\" Multinomial Naive Bayes \".center(18, \"=\"))\n",
    "print(f'Training Accuracy:  {nb_train}')\n",
    "print(f'Testing Accuracy:  {nb_test}')\n",
    "print()\n",
    "print(\" K Nearest Neighbors Classifier \".center(18, \"=\"))\n",
    "print(f'Training Accuracy:  {knn_train}')\n",
    "print(f'Testing Accuracy:  {knn_test}')\n",
    "print()\n",
    "print(\" Random Forest Classifier \".center(18, \"=\"))\n",
    "print(f'Training Accuracy:  {rf_train}')\n",
    "print(f'Testing Accuracy:  {rf_test}')"
   ]
  },
  {
   "cell_type": "code",
   "execution_count": 27,
   "metadata": {},
   "outputs": [
    {
     "data": {
      "text/html": [
       "<div>\n",
       "<style scoped>\n",
       "    .dataframe tbody tr th:only-of-type {\n",
       "        vertical-align: middle;\n",
       "    }\n",
       "\n",
       "    .dataframe tbody tr th {\n",
       "        vertical-align: top;\n",
       "    }\n",
       "\n",
       "    .dataframe thead th {\n",
       "        text-align: right;\n",
       "    }\n",
       "</style>\n",
       "<table border=\"1\" class=\"dataframe\">\n",
       "  <thead>\n",
       "    <tr style=\"text-align: right;\">\n",
       "      <th></th>\n",
       "      <th>Accuracies(%)</th>\n",
       "    </tr>\n",
       "  </thead>\n",
       "  <tbody>\n",
       "    <tr>\n",
       "      <th>Logistic Regression</th>\n",
       "      <td>66.426643</td>\n",
       "    </tr>\n",
       "    <tr>\n",
       "      <th>Multinomial Naive bayes</th>\n",
       "      <td>59.585959</td>\n",
       "    </tr>\n",
       "    <tr>\n",
       "      <th>KNN</th>\n",
       "      <td>38.883888</td>\n",
       "    </tr>\n",
       "    <tr>\n",
       "      <th>Random Forest</th>\n",
       "      <td>56.255626</td>\n",
       "    </tr>\n",
       "  </tbody>\n",
       "</table>\n",
       "</div>"
      ],
      "text/plain": [
       "                         Accuracies(%)\n",
       "Logistic Regression          66.426643\n",
       "Multinomial Naive bayes      59.585959\n",
       "KNN                          38.883888\n",
       "Random Forest                56.255626"
      ]
     },
     "execution_count": 27,
     "metadata": {},
     "output_type": "execute_result"
    }
   ],
   "source": [
    "accuracies_df = pd.DataFrame.from_dict(accuracies, orient='index', columns=['Accuracies(%)'])\n",
    "accuracies_df"
   ]
  },
  {
   "cell_type": "code",
   "execution_count": 28,
   "metadata": {},
   "outputs": [
    {
     "data": {
      "image/png": "[encoded data removed]",
      "text/plain": [
       "<Figure size 1152x360 with 1 Axes>"
      ]
     },
     "metadata": {},
     "output_type": "display_data"
    }
   ],
   "source": [
    "#colors = [\"salmon\", \"blue\", \"green\", \"magenta\"]\n",
    "\n",
    "sns.set_style(\"whitegrid\")\n",
    "plt.figure(figsize=(16,5))\n",
    "plt.yticks(np.arange(0,100,10))\n",
    "plt.ylabel(\"Accuracy %\")\n",
    "plt.xlabel(\"Algorithms\")\n",
    "sns.barplot(x=list(accuracies.keys()), y=list(accuracies.values()), palette='flare')\n",
    "plt.show()"
   ]
  },
  {
   "cell_type": "markdown",
   "metadata": {},
   "source": [
    "### saving heavy sample for next model tuning"
   ]
  },
  {
   "cell_type": "code",
   "execution_count": 29,
   "metadata": {},
   "outputs": [],
   "source": [
    "heavy_sample.to_csv('../data/heavy_sample.csv', index = False)"
   ]
  },
  {
   "cell_type": "code",
   "execution_count": null,
   "metadata": {},
   "outputs": [],
   "source": []
  },
  {
   "cell_type": "code",
   "execution_count": null,
   "metadata": {},
   "outputs": [],
   "source": []
  },
  {
   "cell_type": "markdown",
   "metadata": {},
   "source": [
    "## Upper Class Modeling\n",
    "---\n",
    "Upper Class will include the top four categories with the next most data ('ENTP', 'ENFP', 'ISTP', 'ISFP')"
   ]
  },
  {
   "cell_type": "markdown",
   "metadata": {},
   "source": [
    "### Feature Engineering"
   ]
  },
  {
   "cell_type": "markdown",
   "metadata": {},
   "source": [
    "### Subsetting into upper class"
   ]
  },
  {
   "cell_type": "code",
   "execution_count": 30,
   "metadata": {},
   "outputs": [
    {
     "data": {
      "text/plain": [
       "(1894, 3)"
      ]
     },
     "execution_count": 30,
     "metadata": {},
     "output_type": "execute_result"
    }
   ],
   "source": [
    "# Subsetting into upper class\n",
    "\n",
    "upper_class = ['ENTP','ENFP','ISTP','ISFP']\n",
    "\n",
    "upper_sample = df[df['type'].isin(upper_class)]\n",
    "\n",
    "upper_sample.type.unique()\n",
    "\n",
    "upper_sample.shape"
   ]
  },
  {
   "cell_type": "markdown",
   "metadata": {},
   "source": [
    "### Splitting data into X and y "
   ]
  },
  {
   "cell_type": "markdown",
   "metadata": {},
   "source": [
    "#### Binarizing target variables"
   ]
  },
  {
   "cell_type": "code",
   "execution_count": 31,
   "metadata": {},
   "outputs": [],
   "source": [
    "# Binarizing MBTI personality types(target feature) using LabelEncoder\n",
    "\n",
    "encoder = LabelEncoder()\n",
    "upper_sample['class'] = encoder.fit_transform(upper_sample['type'])\n",
    "\n",
    "# Defining y (target feature)\n",
    "y = upper_sample['class']"
   ]
  },
  {
   "cell_type": "code",
   "execution_count": 32,
   "metadata": {},
   "outputs": [
    {
     "data": {
      "text/html": [
       "<div>\n",
       "<style scoped>\n",
       "    .dataframe tbody tr th:only-of-type {\n",
       "        vertical-align: middle;\n",
       "    }\n",
       "\n",
       "    .dataframe tbody tr th {\n",
       "        vertical-align: top;\n",
       "    }\n",
       "\n",
       "    .dataframe thead th {\n",
       "        text-align: right;\n",
       "    }\n",
       "</style>\n",
       "<table border=\"1\" class=\"dataframe\">\n",
       "  <thead>\n",
       "    <tr style=\"text-align: right;\">\n",
       "      <th></th>\n",
       "      <th>type</th>\n",
       "      <th>posts</th>\n",
       "      <th>no. of. words</th>\n",
       "      <th>class</th>\n",
       "    </tr>\n",
       "  </thead>\n",
       "  <tbody>\n",
       "    <tr>\n",
       "      <th>1</th>\n",
       "      <td>ENTP</td>\n",
       "      <td>finding  lack    these posts very alarming   ...</td>\n",
       "      <td>639</td>\n",
       "      <td>1</td>\n",
       "    </tr>\n",
       "    <tr>\n",
       "      <th>25</th>\n",
       "      <td>ENFP</td>\n",
       "      <td>doesnt want     trip without    staying behin...</td>\n",
       "      <td>305</td>\n",
       "      <td>0</td>\n",
       "    </tr>\n",
       "    <tr>\n",
       "      <th>26</th>\n",
       "      <td>ISFP</td>\n",
       "      <td>they paint without numbers    guess  istp     ...</td>\n",
       "      <td>492</td>\n",
       "      <td>2</td>\n",
       "    </tr>\n",
       "    <tr>\n",
       "      <th>37</th>\n",
       "      <td>ENFP</td>\n",
       "      <td>enfps   posted this thread   philosophy board...</td>\n",
       "      <td>820</td>\n",
       "      <td>0</td>\n",
       "    </tr>\n",
       "    <tr>\n",
       "      <th>39</th>\n",
       "      <td>ISTP</td>\n",
       "      <td>from what  read about  enneagram    thoug...</td>\n",
       "      <td>849</td>\n",
       "      <td>3</td>\n",
       "    </tr>\n",
       "  </tbody>\n",
       "</table>\n",
       "</div>"
      ],
      "text/plain": [
       "    type                                              posts  no. of. words  \\\n",
       "1   ENTP   finding  lack    these posts very alarming   ...            639   \n",
       "25  ENFP   doesnt want     trip without    staying behin...            305   \n",
       "26  ISFP  they paint without numbers    guess  istp     ...            492   \n",
       "37  ENFP   enfps   posted this thread   philosophy board...            820   \n",
       "39  ISTP       from what  read about  enneagram    thoug...            849   \n",
       "\n",
       "    class  \n",
       "1       1  \n",
       "25      0  \n",
       "26      2  \n",
       "37      0  \n",
       "39      3  "
      ]
     },
     "execution_count": 32,
     "metadata": {},
     "output_type": "execute_result"
    }
   ],
   "source": [
    "# Making sure that label encoding successully binarized type column\n",
    "\n",
    "upper_sample.head()"
   ]
  },
  {
   "cell_type": "code",
   "execution_count": 33,
   "metadata": {},
   "outputs": [
    {
     "name": "stdout",
     "output_type": "stream",
     "text": [
      "[1 0 2 3]\n"
     ]
    }
   ],
   "source": [
    "print(upper_sample['class'].unique())"
   ]
  },
  {
   "cell_type": "markdown",
   "metadata": {},
   "source": [
    "Awesome! Now we have four target features!"
   ]
  },
  {
   "cell_type": "code",
   "execution_count": 34,
   "metadata": {},
   "outputs": [
    {
     "data": {
      "text/plain": [
       "ENTP    0.351637\n",
       "ENFP    0.335269\n",
       "ISTP    0.172650\n",
       "ISFP    0.140444\n",
       "Name: type, dtype: float64"
      ]
     },
     "execution_count": 34,
     "metadata": {},
     "output_type": "execute_result"
    }
   ],
   "source": [
    "# Checking to see the class distributions. The upper class is still imbalanced but significantly less so than the original dataframe.\n",
    "upper_sample['type'].value_counts(normalize=True)"
   ]
  },
  {
   "cell_type": "markdown",
   "metadata": {},
   "source": [
    "### CountVectorizer"
   ]
  },
  {
   "cell_type": "code",
   "execution_count": 35,
   "metadata": {},
   "outputs": [],
   "source": [
    "# Preparing posts for model by vectorzing and filtering stop-words\n",
    "\n",
    "cvec = CountVectorizer(stop_words='english')\n",
    "\n",
    "X = cvec.fit_transform(upper_sample['posts'])"
   ]
  },
  {
   "cell_type": "code",
   "execution_count": 36,
   "metadata": {},
   "outputs": [
    {
     "name": "stdout",
     "output_type": "stream",
     "text": [
      "Pre-Vectorized Shape: (1894, 4)\n",
      "Post-Vectorized Shape: (1894, 40908)\n"
     ]
    }
   ],
   "source": [
    "# pre-vectorized shape\n",
    "pre_vect = upper_sample.shape\n",
    "# post-vectorized shape\n",
    "post_vect = X.shape\n",
    "\n",
    "print(f'Pre-Vectorized Shape: {pre_vect}')\n",
    "print(f'Post-Vectorized Shape: {post_vect}')"
   ]
  },
  {
   "cell_type": "markdown",
   "metadata": {},
   "source": [
    "### Train Test Split"
   ]
  },
  {
   "cell_type": "code",
   "execution_count": 37,
   "metadata": {},
   "outputs": [
    {
     "name": "stdout",
     "output_type": "stream",
     "text": [
      "(1515, 40908) (1515,) (379, 40908) (379,)\n"
     ]
    }
   ],
   "source": [
    "# Train test split\n",
    "\n",
    "X_train, X_test, y_train, y_test = train_test_split(X, y, \n",
    "                                                   test_size=0.2, stratify=y, random_state=42)\n",
    "\n",
    "print ((X_train.shape),(y_train.shape),(X_test.shape),(y_test.shape))"
   ]
  },
  {
   "cell_type": "code",
   "execution_count": 38,
   "metadata": {},
   "outputs": [],
   "source": [
    "# Starting an accuracies list here so I can compare the accuracies of all models by the end of the first round\n",
    "\n",
    "accuracies = {}"
   ]
  },
  {
   "cell_type": "markdown",
   "metadata": {},
   "source": [
    "### Logistic Regression\n",
    "---"
   ]
  },
  {
   "cell_type": "code",
   "execution_count": 39,
   "metadata": {},
   "outputs": [
    {
     "name": "stdout",
     "output_type": "stream",
     "text": [
      "              precision    recall  f1-score   support\n",
      "\n",
      "           0       0.73      0.89      0.80       127\n",
      "           1       0.82      0.80      0.81       133\n",
      "           2       0.74      0.55      0.63        53\n",
      "           3       0.80      0.68      0.74        66\n",
      "\n",
      "    accuracy                           0.78       379\n",
      "   macro avg       0.78      0.73      0.75       379\n",
      "weighted avg       0.78      0.78      0.77       379\n",
      "\n"
     ]
    }
   ],
   "source": [
    "# Instantiate the model\n",
    "logreg = LogisticRegression()\n",
    "\n",
    "# Fit the model on the training data\n",
    "logreg.fit(X_train, y_train)\n",
    "\n",
    "# Make predictions\n",
    "preds = logreg.predict(X_test)\n",
    "\n",
    "# Model evaluation\n",
    "report = classification_report(y_test, preds)\n",
    "\n",
    "# Append scores to accuracies list\n",
    "accuracy = accuracy_score(y_test, preds)\n",
    "accuracies['Logistic Regression'] = accuracy* 100.0 \n",
    "\n",
    "print(report)"
   ]
  },
  {
   "cell_type": "code",
   "execution_count": 40,
   "metadata": {},
   "outputs": [],
   "source": [
    "logreg_train = logreg.score(X_train, y_train)\n",
    "\n",
    "logreg_test = logreg.score(X_test, y_test)"
   ]
  },
  {
   "cell_type": "code",
   "execution_count": 41,
   "metadata": {},
   "outputs": [
    {
     "name": "stdout",
     "output_type": "stream",
     "text": [
      "Training Accuracy:  1.0\n",
      "Testing Accuracy:  0.7757255936675461\n"
     ]
    }
   ],
   "source": [
    "print(f'Training Accuracy:  {logreg_train}')\n",
    "print(f'Testing Accuracy:  {logreg_test}')"
   ]
  },
  {
   "cell_type": "markdown",
   "metadata": {},
   "source": [
    "### Multinomial Naive Bayes\n",
    "---"
   ]
  },
  {
   "cell_type": "code",
   "execution_count": 42,
   "metadata": {},
   "outputs": [
    {
     "name": "stdout",
     "output_type": "stream",
     "text": [
      "              precision    recall  f1-score   support\n",
      "\n",
      "           0       0.57      0.79      0.66       127\n",
      "           1       0.59      0.77      0.67       133\n",
      "           2       0.33      0.02      0.04        53\n",
      "           3       0.73      0.29      0.41        66\n",
      "\n",
      "    accuracy                           0.59       379\n",
      "   macro avg       0.56      0.47      0.44       379\n",
      "weighted avg       0.57      0.59      0.53       379\n",
      "\n"
     ]
    }
   ],
   "source": [
    "# Instantiate the model\n",
    "nb = MultinomialNB()\n",
    "\n",
    "# Fit the model on the training data\n",
    "nb.fit(X_train, y_train)\n",
    "\n",
    "# Make predictions\n",
    "preds = nb.predict(X_test)\n",
    "\n",
    "# Model evaluation\n",
    "report = classification_report(y_test, preds)\n",
    "\n",
    "# Append scores to accuracies list\n",
    "accuracy = accuracy_score(y_test, preds)\n",
    "accuracies['Multinomial Naive bayes'] = accuracy* 100.0 \n",
    "\n",
    "print(report)"
   ]
  },
  {
   "cell_type": "code",
   "execution_count": 43,
   "metadata": {},
   "outputs": [],
   "source": [
    "nb_train = nb.score(X_train, y_train)\n",
    "nb_test = nb.score(X_test, y_test)"
   ]
  },
  {
   "cell_type": "code",
   "execution_count": 44,
   "metadata": {},
   "outputs": [
    {
     "name": "stdout",
     "output_type": "stream",
     "text": [
      "Training Accuracy:  0.932013201320132\n",
      "Testing Accuracy:  0.5883905013192612\n"
     ]
    }
   ],
   "source": [
    "print(f'Training Accuracy:  {nb_train}')\n",
    "print(f'Testing Accuracy:  {nb_test}')"
   ]
  },
  {
   "cell_type": "markdown",
   "metadata": {},
   "source": [
    "### K Nearest Neighbors Classifier\n",
    "---"
   ]
  },
  {
   "cell_type": "code",
   "execution_count": 45,
   "metadata": {},
   "outputs": [
    {
     "name": "stdout",
     "output_type": "stream",
     "text": [
      "              precision    recall  f1-score   support\n",
      "\n",
      "           0       0.43      0.77      0.55       127\n",
      "           1       0.48      0.42      0.45       133\n",
      "           2       0.36      0.09      0.15        53\n",
      "           3       0.32      0.09      0.14        66\n",
      "\n",
      "    accuracy                           0.44       379\n",
      "   macro avg       0.39      0.34      0.32       379\n",
      "weighted avg       0.42      0.44      0.39       379\n",
      "\n"
     ]
    }
   ],
   "source": [
    "# Instantiate the model\n",
    "knn = KNeighborsClassifier()\n",
    "\n",
    "# Fit the model on the training data\n",
    "knn.fit(X_train, y_train)\n",
    "\n",
    "# Make predictions\n",
    "preds = knn.predict(X_test)\n",
    "\n",
    "# Model evaluation\n",
    "report = classification_report(y_test, preds)\n",
    "\n",
    "# Append scores to accuracies list\n",
    "accuracy = accuracy_score(y_test, preds)\n",
    "accuracies['KNN'] = accuracy* 100.0 \n",
    "\n",
    "print(report)"
   ]
  },
  {
   "cell_type": "code",
   "execution_count": 46,
   "metadata": {},
   "outputs": [],
   "source": [
    "knn_train = knn.score(X_train, y_train)\n",
    "knn_test = knn.score(X_test, y_test)"
   ]
  },
  {
   "cell_type": "code",
   "execution_count": 47,
   "metadata": {},
   "outputs": [
    {
     "name": "stdout",
     "output_type": "stream",
     "text": [
      "Training Accuracy:  0.565016501650165\n",
      "Testing Accuracy:  0.43535620052770446\n"
     ]
    }
   ],
   "source": [
    "print(f'Training Accuracy:  {knn_train}')\n",
    "print(f'Testing Accuracy:  {knn_test}')"
   ]
  },
  {
   "cell_type": "markdown",
   "metadata": {},
   "source": [
    "### Random Forest\n",
    "---"
   ]
  },
  {
   "cell_type": "code",
   "execution_count": 48,
   "metadata": {},
   "outputs": [
    {
     "name": "stdout",
     "output_type": "stream",
     "text": [
      "              precision    recall  f1-score   support\n",
      "\n",
      "           0       0.60      0.90      0.72       127\n",
      "           1       0.63      0.80      0.70       133\n",
      "           2       1.00      0.08      0.14        53\n",
      "           3       0.81      0.20      0.32        66\n",
      "\n",
      "    accuracy                           0.63       379\n",
      "   macro avg       0.76      0.49      0.47       379\n",
      "weighted avg       0.70      0.63      0.56       379\n",
      "\n"
     ]
    }
   ],
   "source": [
    "# Instantiate the model\n",
    "rf = RandomForestClassifier()\n",
    "\n",
    "# Fit the model on the training data\n",
    "rf.fit(X_train, y_train)\n",
    "\n",
    "# Make predictions\n",
    "preds = rf.predict(X_test)\n",
    "\n",
    "# Model evaluation\n",
    "report = classification_report(y_test, preds)\n",
    "\n",
    "# Append scores to accuracies list\n",
    "accuracy = accuracy_score(y_test, preds)\n",
    "accuracies['Random Forest'] = accuracy* 100.0 \n",
    "\n",
    "print(report)"
   ]
  },
  {
   "cell_type": "code",
   "execution_count": 49,
   "metadata": {},
   "outputs": [],
   "source": [
    "rf_train = rf.score(X_train, y_train)\n",
    "rf_test = rf.score(X_test, y_test)"
   ]
  },
  {
   "cell_type": "code",
   "execution_count": 50,
   "metadata": {},
   "outputs": [
    {
     "name": "stdout",
     "output_type": "stream",
     "text": [
      "Training Accuracy:  1.0\n",
      "Testing Accuracy:  0.6253298153034301\n"
     ]
    }
   ],
   "source": [
    "print(f'Training Accuracy:  {rf_train}')\n",
    "print(f'Testing Accuracy:  {rf_test}')"
   ]
  },
  {
   "cell_type": "markdown",
   "metadata": {},
   "source": [
    "### Model Evaluation\n",
    "---"
   ]
  },
  {
   "cell_type": "code",
   "execution_count": 51,
   "metadata": {},
   "outputs": [
    {
     "name": "stdout",
     "output_type": "stream",
     "text": [
      " Logistic Regression \n",
      "Training Accuracy:  1.0\n",
      "Testing Accuracy:  0.7757255936675461\n",
      "\n",
      " Multinomial Naive Bayes \n",
      "Training Accuracy:  0.932013201320132\n",
      "Testing Accuracy:  0.5883905013192612\n",
      "\n",
      " K Nearest Neighbors Classifier \n",
      "Training Accuracy:  0.565016501650165\n",
      "Testing Accuracy:  0.43535620052770446\n",
      "\n",
      " Random Forest Classifier \n",
      "Training Accuracy:  1.0\n",
      "Testing Accuracy:  0.6253298153034301\n"
     ]
    }
   ],
   "source": [
    "# Model Scores\n",
    "print(\" Logistic Regression \".center(18, \"=\"))\n",
    "print(f'Training Accuracy:  {logreg_train}')\n",
    "print(f'Testing Accuracy:  {logreg_test}')\n",
    "print()\n",
    "print(\" Multinomial Naive Bayes \".center(18, \"=\"))\n",
    "print(f'Training Accuracy:  {nb_train}')\n",
    "print(f'Testing Accuracy:  {nb_test}')\n",
    "print()\n",
    "print(\" K Nearest Neighbors Classifier \".center(18, \"=\"))\n",
    "print(f'Training Accuracy:  {knn_train}')\n",
    "print(f'Testing Accuracy:  {knn_test}')\n",
    "print()\n",
    "print(\" Random Forest Classifier \".center(18, \"=\"))\n",
    "print(f'Training Accuracy:  {rf_train}')\n",
    "print(f'Testing Accuracy:  {rf_test}')"
   ]
  },
  {
   "cell_type": "code",
   "execution_count": 52,
   "metadata": {},
   "outputs": [
    {
     "data": {
      "text/html": [
       "<div>\n",
       "<style scoped>\n",
       "    .dataframe tbody tr th:only-of-type {\n",
       "        vertical-align: middle;\n",
       "    }\n",
       "\n",
       "    .dataframe tbody tr th {\n",
       "        vertical-align: top;\n",
       "    }\n",
       "\n",
       "    .dataframe thead th {\n",
       "        text-align: right;\n",
       "    }\n",
       "</style>\n",
       "<table border=\"1\" class=\"dataframe\">\n",
       "  <thead>\n",
       "    <tr style=\"text-align: right;\">\n",
       "      <th></th>\n",
       "      <th>Accuracies(%)</th>\n",
       "    </tr>\n",
       "  </thead>\n",
       "  <tbody>\n",
       "    <tr>\n",
       "      <th>Logistic Regression</th>\n",
       "      <td>77.572559</td>\n",
       "    </tr>\n",
       "    <tr>\n",
       "      <th>Multinomial Naive bayes</th>\n",
       "      <td>58.839050</td>\n",
       "    </tr>\n",
       "    <tr>\n",
       "      <th>KNN</th>\n",
       "      <td>43.535620</td>\n",
       "    </tr>\n",
       "    <tr>\n",
       "      <th>Random Forest</th>\n",
       "      <td>62.532982</td>\n",
       "    </tr>\n",
       "  </tbody>\n",
       "</table>\n",
       "</div>"
      ],
      "text/plain": [
       "                         Accuracies(%)\n",
       "Logistic Regression          77.572559\n",
       "Multinomial Naive bayes      58.839050\n",
       "KNN                          43.535620\n",
       "Random Forest                62.532982"
      ]
     },
     "execution_count": 52,
     "metadata": {},
     "output_type": "execute_result"
    }
   ],
   "source": [
    "accuracies_df = pd.DataFrame.from_dict(accuracies, orient='index', columns=['Accuracies(%)'])\n",
    "accuracies_df"
   ]
  },
  {
   "cell_type": "code",
   "execution_count": 53,
   "metadata": {},
   "outputs": [
    {
     "data": {
      "image/png": "[encoded data removed]",
      "text/plain": [
       "<Figure size 1152x360 with 1 Axes>"
      ]
     },
     "metadata": {},
     "output_type": "display_data"
    }
   ],
   "source": [
    "#colors = [\"salmon\", \"blue\", \"green\", \"magenta\"]\n",
    "\n",
    "sns.set_style(\"whitegrid\")\n",
    "plt.figure(figsize=(16,5))\n",
    "plt.yticks(np.arange(0,100,10))\n",
    "plt.ylabel(\"Accuracy %\")\n",
    "plt.xlabel(\"Algorithms\")\n",
    "sns.barplot(x=list(accuracies.keys()), y=list(accuracies.values()), palette='ch:s=.25,rot=-.25')\n",
    "plt.show()"
   ]
  },
  {
   "cell_type": "code",
   "execution_count": 54,
   "metadata": {},
   "outputs": [],
   "source": [
    "upper_sample.to_csv('../data/upper_sample.csv', index = False)"
   ]
  },
  {
   "cell_type": "markdown",
   "metadata": {},
   "source": [
    "## Lower Class Modeling\n",
    "---\n",
    "Lower Class will include the top four categories with the next most data ('ENTJ', 'ISTJ', 'ENFJ', 'ISFJ')"
   ]
  },
  {
   "cell_type": "markdown",
   "metadata": {},
   "source": [
    "### Feature Engineering"
   ]
  },
  {
   "cell_type": "markdown",
   "metadata": {},
   "source": [
    "### Subsetting into lower class"
   ]
  },
  {
   "cell_type": "code",
   "execution_count": 55,
   "metadata": {},
   "outputs": [
    {
     "data": {
      "text/plain": [
       "(770, 3)"
      ]
     },
     "execution_count": 55,
     "metadata": {},
     "output_type": "execute_result"
    }
   ],
   "source": [
    "# Subsetting into lower class\n",
    "\n",
    "lower_class = ['ENTJ','ISTJ','ENFJ','ISFJ']\n",
    "\n",
    "lower_sample = df[df['type'].isin(lower_class)]\n",
    "\n",
    "lower_sample.type.unique()\n",
    "\n",
    "lower_sample.shape"
   ]
  },
  {
   "cell_type": "markdown",
   "metadata": {},
   "source": [
    "### Splitting data into X and y"
   ]
  },
  {
   "cell_type": "markdown",
   "metadata": {},
   "source": [
    "#### Binarizing target variables"
   ]
  },
  {
   "cell_type": "code",
   "execution_count": 56,
   "metadata": {},
   "outputs": [],
   "source": [
    "# Binarizing MBTI personality types(target feature) using LabelEncoder\n",
    "\n",
    "encoder = LabelEncoder()\n",
    "lower_sample['class'] = encoder.fit_transform(lower_sample['type'])\n",
    "\n",
    "# Defining y (target feature)\n",
    "y = lower_sample['class']"
   ]
  },
  {
   "cell_type": "code",
   "execution_count": 57,
   "metadata": {},
   "outputs": [
    {
     "data": {
      "text/html": [
       "<div>\n",
       "<style scoped>\n",
       "    .dataframe tbody tr th:only-of-type {\n",
       "        vertical-align: middle;\n",
       "    }\n",
       "\n",
       "    .dataframe tbody tr th {\n",
       "        vertical-align: top;\n",
       "    }\n",
       "\n",
       "    .dataframe thead th {\n",
       "        text-align: right;\n",
       "    }\n",
       "</style>\n",
       "<table border=\"1\" class=\"dataframe\">\n",
       "  <thead>\n",
       "    <tr style=\"text-align: right;\">\n",
       "      <th></th>\n",
       "      <th>type</th>\n",
       "      <th>posts</th>\n",
       "      <th>no. of. words</th>\n",
       "      <th>class</th>\n",
       "    </tr>\n",
       "  </thead>\n",
       "  <tbody>\n",
       "    <tr>\n",
       "      <th>4</th>\n",
       "      <td>ENTJ</td>\n",
       "      <td>youre fired    thats another silly misconcepti...</td>\n",
       "      <td>315</td>\n",
       "      <td>1</td>\n",
       "    </tr>\n",
       "    <tr>\n",
       "      <th>11</th>\n",
       "      <td>ENFJ</td>\n",
       "      <td>went through  break  some months    wer...</td>\n",
       "      <td>267</td>\n",
       "      <td>0</td>\n",
       "    </tr>\n",
       "    <tr>\n",
       "      <th>23</th>\n",
       "      <td>ENTJ</td>\n",
       "      <td>still going strong  just over   year mark   ha...</td>\n",
       "      <td>622</td>\n",
       "      <td>1</td>\n",
       "    </tr>\n",
       "    <tr>\n",
       "      <th>33</th>\n",
       "      <td>ENFJ</td>\n",
       "      <td>stuff like     they  longer become outlandi...</td>\n",
       "      <td>131</td>\n",
       "      <td>0</td>\n",
       "    </tr>\n",
       "    <tr>\n",
       "      <th>38</th>\n",
       "      <td>ENTJ</td>\n",
       "      <td>hello     working   presentation  type   part ...</td>\n",
       "      <td>19</td>\n",
       "      <td>1</td>\n",
       "    </tr>\n",
       "  </tbody>\n",
       "</table>\n",
       "</div>"
      ],
      "text/plain": [
       "    type                                              posts  no. of. words  \\\n",
       "4   ENTJ  youre fired    thats another silly misconcepti...            315   \n",
       "11  ENFJ         went through  break  some months    wer...            267   \n",
       "23  ENTJ  still going strong  just over   year mark   ha...            622   \n",
       "33  ENFJ     stuff like     they  longer become outlandi...            131   \n",
       "38  ENTJ  hello     working   presentation  type   part ...             19   \n",
       "\n",
       "    class  \n",
       "4       1  \n",
       "11      0  \n",
       "23      1  \n",
       "33      0  \n",
       "38      1  "
      ]
     },
     "execution_count": 57,
     "metadata": {},
     "output_type": "execute_result"
    }
   ],
   "source": [
    "# Making sure that label encoding successully binarized type column\n",
    "\n",
    "lower_sample.head()"
   ]
  },
  {
   "cell_type": "code",
   "execution_count": 58,
   "metadata": {},
   "outputs": [
    {
     "name": "stdout",
     "output_type": "stream",
     "text": [
      "[1 0 2 3]\n"
     ]
    }
   ],
   "source": [
    "print(lower_sample['class'].unique())"
   ]
  },
  {
   "cell_type": "markdown",
   "metadata": {},
   "source": [
    "Fantastic! Four features now yay!"
   ]
  },
  {
   "cell_type": "code",
   "execution_count": 59,
   "metadata": {},
   "outputs": [
    {
     "data": {
      "text/plain": [
       "ENTJ    0.292208\n",
       "ISTJ    0.262338\n",
       "ENFJ    0.232468\n",
       "ISFJ    0.212987\n",
       "Name: type, dtype: float64"
      ]
     },
     "execution_count": 59,
     "metadata": {},
     "output_type": "execute_result"
    }
   ],
   "source": [
    "# Checking to see the class distributions. The lower class is still imbalanced but significantly less so than the original dataframe.\n",
    "lower_sample['type'].value_counts(normalize=True)"
   ]
  },
  {
   "cell_type": "markdown",
   "metadata": {},
   "source": [
    "### CountVectorizer"
   ]
  },
  {
   "cell_type": "code",
   "execution_count": 60,
   "metadata": {},
   "outputs": [],
   "source": [
    "# Preparing posts for model by vectorzing and filtering stop-words\n",
    "\n",
    "cvec = CountVectorizer(stop_words='english')\n",
    "\n",
    "X = cvec.fit_transform(lower_sample['posts'])"
   ]
  },
  {
   "cell_type": "code",
   "execution_count": 61,
   "metadata": {},
   "outputs": [
    {
     "name": "stdout",
     "output_type": "stream",
     "text": [
      "Pre-Vectorized Shape: (770, 4)\n",
      "Post-Vectorized Shape: (770, 24595)\n"
     ]
    }
   ],
   "source": [
    "# pre-vectorized shape\n",
    "pre_vect = lower_sample.shape\n",
    "# post-vectorized shape\n",
    "post_vect = X.shape\n",
    "\n",
    "print(f'Pre-Vectorized Shape: {pre_vect}')\n",
    "print(f'Post-Vectorized Shape: {post_vect}')"
   ]
  },
  {
   "cell_type": "markdown",
   "metadata": {},
   "source": [
    "### Train Test Split"
   ]
  },
  {
   "cell_type": "code",
   "execution_count": 62,
   "metadata": {},
   "outputs": [
    {
     "name": "stdout",
     "output_type": "stream",
     "text": [
      "(616, 24595) (616,) (154, 24595) (154,)\n"
     ]
    }
   ],
   "source": [
    "# Train test split\n",
    "\n",
    "X_train, X_test, y_train, y_test = train_test_split(X, y, \n",
    "                                                   test_size=0.2, stratify=y, random_state=42)\n",
    "\n",
    "print ((X_train.shape),(y_train.shape),(X_test.shape),(y_test.shape))"
   ]
  },
  {
   "cell_type": "code",
   "execution_count": 63,
   "metadata": {},
   "outputs": [],
   "source": [
    "# Starting an accuracies list here so I can compare the accuracies of all models by the end of the first round\n",
    "\n",
    "accuracies = {}"
   ]
  },
  {
   "cell_type": "markdown",
   "metadata": {},
   "source": [
    "## Logistic Regression\n",
    "---"
   ]
  },
  {
   "cell_type": "code",
   "execution_count": 64,
   "metadata": {},
   "outputs": [
    {
     "name": "stdout",
     "output_type": "stream",
     "text": [
      "              precision    recall  f1-score   support\n",
      "\n",
      "           0       0.64      0.69      0.67        36\n",
      "           1       0.76      0.69      0.72        45\n",
      "           2       0.59      0.58      0.58        33\n",
      "           3       0.74      0.78      0.76        40\n",
      "\n",
      "    accuracy                           0.69       154\n",
      "   macro avg       0.68      0.68      0.68       154\n",
      "weighted avg       0.69      0.69      0.69       154\n",
      "\n"
     ]
    }
   ],
   "source": [
    "# Instantiate the model\n",
    "logreg = LogisticRegression()\n",
    "\n",
    "# Fit the model on the training data\n",
    "logreg.fit(X_train, y_train)\n",
    "\n",
    "# Make predictions\n",
    "preds = logreg.predict(X_test)\n",
    "\n",
    "# Model evaluation\n",
    "report = classification_report(y_test, preds)\n",
    "\n",
    "# Append scores to accuracies list\n",
    "accuracy = accuracy_score(y_test, preds)\n",
    "accuracies['Logistic Regression'] = accuracy* 100.0 \n",
    "\n",
    "print(report)"
   ]
  },
  {
   "cell_type": "code",
   "execution_count": 65,
   "metadata": {},
   "outputs": [],
   "source": [
    "logreg_train = logreg.score(X_train, y_train)\n",
    "\n",
    "logreg_test = logreg.score(X_test, y_test)"
   ]
  },
  {
   "cell_type": "code",
   "execution_count": 66,
   "metadata": {},
   "outputs": [
    {
     "name": "stdout",
     "output_type": "stream",
     "text": [
      "Training Accuracy:  1.0\n",
      "Testing Accuracy:  0.6883116883116883\n"
     ]
    }
   ],
   "source": [
    "print(f'Training Accuracy:  {logreg_train}')\n",
    "print(f'Testing Accuracy:  {logreg_test}')"
   ]
  },
  {
   "cell_type": "markdown",
   "metadata": {},
   "source": [
    "## Multinomial Naive Bayes\n",
    "---"
   ]
  },
  {
   "cell_type": "code",
   "execution_count": 67,
   "metadata": {},
   "outputs": [
    {
     "name": "stdout",
     "output_type": "stream",
     "text": [
      "              precision    recall  f1-score   support\n",
      "\n",
      "           0       0.82      0.39      0.53        36\n",
      "           1       0.52      0.91      0.66        45\n",
      "           2       0.86      0.18      0.30        33\n",
      "           3       0.57      0.72      0.64        40\n",
      "\n",
      "    accuracy                           0.58       154\n",
      "   macro avg       0.69      0.55      0.53       154\n",
      "weighted avg       0.68      0.58      0.55       154\n",
      "\n"
     ]
    }
   ],
   "source": [
    "# Instantiate the model\n",
    "nb = MultinomialNB()\n",
    "\n",
    "# Fit the model on the training data\n",
    "nb.fit(X_train, y_train)\n",
    "\n",
    "# Make predictions\n",
    "preds = nb.predict(X_test)\n",
    "\n",
    "# Model evaluation\n",
    "report = classification_report(y_test, preds)\n",
    "\n",
    "# Append scores to accuracies list\n",
    "accuracy = accuracy_score(y_test, preds)\n",
    "accuracies['Multinomial Naive bayes'] = accuracy* 100.0 \n",
    "\n",
    "print(report)"
   ]
  },
  {
   "cell_type": "code",
   "execution_count": 68,
   "metadata": {},
   "outputs": [],
   "source": [
    "nb_train = nb.score(X_train, y_train)\n",
    "nb_test = nb.score(X_test, y_test)"
   ]
  },
  {
   "cell_type": "code",
   "execution_count": 69,
   "metadata": {},
   "outputs": [
    {
     "name": "stdout",
     "output_type": "stream",
     "text": [
      "Training Accuracy:  0.9935064935064936\n",
      "Testing Accuracy:  0.5844155844155844\n"
     ]
    }
   ],
   "source": [
    "print(f'Training Accuracy:  {nb_train}')\n",
    "print(f'Testing Accuracy:  {nb_test}')"
   ]
  },
  {
   "cell_type": "markdown",
   "metadata": {},
   "source": [
    "## K Nearest Neighbors Classifier\n",
    "---"
   ]
  },
  {
   "cell_type": "code",
   "execution_count": 70,
   "metadata": {},
   "outputs": [
    {
     "name": "stdout",
     "output_type": "stream",
     "text": [
      "              precision    recall  f1-score   support\n",
      "\n",
      "           0       0.38      0.72      0.50        36\n",
      "           1       0.62      0.18      0.28        45\n",
      "           2       0.33      0.55      0.41        33\n",
      "           3       0.59      0.25      0.35        40\n",
      "\n",
      "    accuracy                           0.40       154\n",
      "   macro avg       0.48      0.42      0.38       154\n",
      "weighted avg       0.49      0.40      0.38       154\n",
      "\n"
     ]
    }
   ],
   "source": [
    "# Instantiate the model\n",
    "knn = KNeighborsClassifier()\n",
    "\n",
    "# Fit the model on the training data\n",
    "knn.fit(X_train, y_train)\n",
    "\n",
    "# Make predictions\n",
    "preds = knn.predict(X_test)\n",
    "\n",
    "# Model evaluation\n",
    "report = classification_report(y_test, preds)\n",
    "\n",
    "# Append scores to accuracies list\n",
    "accuracy = accuracy_score(y_test, preds)\n",
    "accuracies['KNN'] = accuracy* 100.0 \n",
    "\n",
    "print(report)"
   ]
  },
  {
   "cell_type": "code",
   "execution_count": 71,
   "metadata": {},
   "outputs": [],
   "source": [
    "knn_train = knn.score(X_train, y_train)\n",
    "knn_test = knn.score(X_test, y_test)"
   ]
  },
  {
   "cell_type": "code",
   "execution_count": 72,
   "metadata": {},
   "outputs": [
    {
     "name": "stdout",
     "output_type": "stream",
     "text": [
      "Training Accuracy:  0.5584415584415584\n",
      "Testing Accuracy:  0.4025974025974026\n"
     ]
    }
   ],
   "source": [
    "print(f'Training Accuracy:  {knn_train}')\n",
    "print(f'Testing Accuracy:  {knn_test}')"
   ]
  },
  {
   "cell_type": "markdown",
   "metadata": {},
   "source": [
    "## Random Forest\n",
    "---"
   ]
  },
  {
   "cell_type": "code",
   "execution_count": 73,
   "metadata": {},
   "outputs": [
    {
     "name": "stdout",
     "output_type": "stream",
     "text": [
      "              precision    recall  f1-score   support\n",
      "\n",
      "           0       0.66      0.64      0.65        36\n",
      "           1       0.65      0.78      0.71        45\n",
      "           2       0.65      0.33      0.44        33\n",
      "           3       0.56      0.68      0.61        40\n",
      "\n",
      "    accuracy                           0.62       154\n",
      "   macro avg       0.63      0.61      0.60       154\n",
      "weighted avg       0.63      0.62      0.61       154\n",
      "\n"
     ]
    }
   ],
   "source": [
    "# Instantiate the model\n",
    "rf = RandomForestClassifier()\n",
    "\n",
    "# Fit the model on the training data\n",
    "rf.fit(X_train, y_train)\n",
    "\n",
    "# Make predictions\n",
    "preds = rf.predict(X_test)\n",
    "\n",
    "# Model evaluation\n",
    "report = classification_report(y_test, preds)\n",
    "\n",
    "# Append scores to accuracies list\n",
    "accuracy = accuracy_score(y_test, preds)\n",
    "accuracies['Random Forest'] = accuracy* 100.0 \n",
    "\n",
    "print(report)"
   ]
  },
  {
   "cell_type": "code",
   "execution_count": 74,
   "metadata": {},
   "outputs": [],
   "source": [
    "rf_train = rf.score(X_train, y_train)\n",
    "rf_test = rf.score(X_test, y_test)"
   ]
  },
  {
   "cell_type": "code",
   "execution_count": 75,
   "metadata": {},
   "outputs": [
    {
     "name": "stdout",
     "output_type": "stream",
     "text": [
      "Training Accuracy:  1.0\n",
      "Testing Accuracy:  0.6233766233766234\n"
     ]
    }
   ],
   "source": [
    "print(f'Training Accuracy:  {rf_train}')\n",
    "print(f'Testing Accuracy:  {rf_test}')"
   ]
  },
  {
   "cell_type": "markdown",
   "metadata": {},
   "source": [
    "## Model Evaluation \n",
    "___"
   ]
  },
  {
   "cell_type": "code",
   "execution_count": 76,
   "metadata": {},
   "outputs": [
    {
     "name": "stdout",
     "output_type": "stream",
     "text": [
      " Logistic Regression \n",
      "Training Accuracy:  1.0\n",
      "Testing Accuracy:  0.6883116883116883\n",
      "\n",
      " Multinomial Naive Bayes \n",
      "Training Accuracy:  0.9935064935064936\n",
      "Testing Accuracy:  0.5844155844155844\n",
      "\n",
      " K Nearest Neighbors Classifier \n",
      "Training Accuracy:  0.5584415584415584\n",
      "Testing Accuracy:  0.4025974025974026\n",
      "\n",
      " Random Forest Classifier \n",
      "Training Accuracy:  1.0\n",
      "Testing Accuracy:  0.6233766233766234\n"
     ]
    }
   ],
   "source": [
    "# Model Scores\n",
    "print(\" Logistic Regression \".center(18, \"=\"))\n",
    "print(f'Training Accuracy:  {logreg_train}')\n",
    "print(f'Testing Accuracy:  {logreg_test}')\n",
    "print()\n",
    "print(\" Multinomial Naive Bayes \".center(18, \"=\"))\n",
    "print(f'Training Accuracy:  {nb_train}')\n",
    "print(f'Testing Accuracy:  {nb_test}')\n",
    "print()\n",
    "print(\" K Nearest Neighbors Classifier \".center(18, \"=\"))\n",
    "print(f'Training Accuracy:  {knn_train}')\n",
    "print(f'Testing Accuracy:  {knn_test}')\n",
    "print()\n",
    "print(\" Random Forest Classifier \".center(18, \"=\"))\n",
    "print(f'Training Accuracy:  {rf_train}')\n",
    "print(f'Testing Accuracy:  {rf_test}')"
   ]
  },
  {
   "cell_type": "code",
   "execution_count": 77,
   "metadata": {},
   "outputs": [
    {
     "data": {
      "text/html": [
       "<div>\n",
       "<style scoped>\n",
       "    .dataframe tbody tr th:only-of-type {\n",
       "        vertical-align: middle;\n",
       "    }\n",
       "\n",
       "    .dataframe tbody tr th {\n",
       "        vertical-align: top;\n",
       "    }\n",
       "\n",
       "    .dataframe thead th {\n",
       "        text-align: right;\n",
       "    }\n",
       "</style>\n",
       "<table border=\"1\" class=\"dataframe\">\n",
       "  <thead>\n",
       "    <tr style=\"text-align: right;\">\n",
       "      <th></th>\n",
       "      <th>Accuracies(%)</th>\n",
       "    </tr>\n",
       "  </thead>\n",
       "  <tbody>\n",
       "    <tr>\n",
       "      <th>Logistic Regression</th>\n",
       "      <td>68.831169</td>\n",
       "    </tr>\n",
       "    <tr>\n",
       "      <th>Multinomial Naive bayes</th>\n",
       "      <td>58.441558</td>\n",
       "    </tr>\n",
       "    <tr>\n",
       "      <th>KNN</th>\n",
       "      <td>40.259740</td>\n",
       "    </tr>\n",
       "    <tr>\n",
       "      <th>Random Forest</th>\n",
       "      <td>62.337662</td>\n",
       "    </tr>\n",
       "  </tbody>\n",
       "</table>\n",
       "</div>"
      ],
      "text/plain": [
       "                         Accuracies(%)\n",
       "Logistic Regression          68.831169\n",
       "Multinomial Naive bayes      58.441558\n",
       "KNN                          40.259740\n",
       "Random Forest                62.337662"
      ]
     },
     "execution_count": 77,
     "metadata": {},
     "output_type": "execute_result"
    }
   ],
   "source": [
    "accuracies_df = pd.DataFrame.from_dict(accuracies, orient='index', columns=['Accuracies(%)'])\n",
    "accuracies_df"
   ]
  },
  {
   "cell_type": "code",
   "execution_count": 78,
   "metadata": {},
   "outputs": [
    {
     "data": {
      "image/png": "[encoded data removed]",
      "text/plain": [
       "<Figure size 1152x360 with 1 Axes>"
      ]
     },
     "metadata": {},
     "output_type": "display_data"
    }
   ],
   "source": [
    "#colors = [\"salmon\", \"blue\", \"green\", \"magenta\"]\n",
    "\n",
    "sns.set_style(\"whitegrid\")\n",
    "plt.figure(figsize=(16,5))\n",
    "plt.yticks(np.arange(0,100,10))\n",
    "plt.ylabel(\"Accuracy %\")\n",
    "plt.xlabel(\"Algorithms\")\n",
    "sns.barplot(x=list(accuracies.keys()), y=list(accuracies.values()), palette='light:#5A9')\n",
    "plt.show()"
   ]
  },
  {
   "cell_type": "markdown",
   "metadata": {},
   "source": [
    "## Light Class Modeling\n",
    "---\n",
    "Light Class will include the bottom four categories with the least amount of data ('ESTP', 'ESFP', 'ESFJ', 'ESTJ')"
   ]
  },
  {
   "cell_type": "markdown",
   "metadata": {},
   "source": [
    "### Feature Engineering"
   ]
  },
  {
   "cell_type": "markdown",
   "metadata": {},
   "source": [
    "### Subsetting into light class"
   ]
  },
  {
   "cell_type": "code",
   "execution_count": 79,
   "metadata": {},
   "outputs": [
    {
     "data": {
      "text/plain": [
       "(217, 3)"
      ]
     },
     "execution_count": 79,
     "metadata": {},
     "output_type": "execute_result"
    }
   ],
   "source": [
    "# Subsetting into lower class\n",
    "\n",
    "light_class = ['ESTP','ESFP','ESFJ','ESTJ']\n",
    "\n",
    "light_sample = df[df['type'].isin(light_class)]\n",
    "\n",
    "light_sample.type.unique()\n",
    "\n",
    "light_sample.shape"
   ]
  },
  {
   "cell_type": "markdown",
   "metadata": {},
   "source": [
    "### Splitting data into X and y"
   ]
  },
  {
   "cell_type": "markdown",
   "metadata": {},
   "source": [
    "#### Binarizing target variables"
   ]
  },
  {
   "cell_type": "code",
   "execution_count": 80,
   "metadata": {},
   "outputs": [],
   "source": [
    "# Binarizing MBTI personality types(target feature) using LabelEncoder\n",
    "\n",
    "encoder = LabelEncoder()\n",
    "light_sample['class'] = encoder.fit_transform(light_sample['type'])\n",
    "\n",
    "# Defining y (target feature)\n",
    "y = light_sample['class']"
   ]
  },
  {
   "cell_type": "code",
   "execution_count": 81,
   "metadata": {},
   "outputs": [
    {
     "data": {
      "text/html": [
       "<div>\n",
       "<style scoped>\n",
       "    .dataframe tbody tr th:only-of-type {\n",
       "        vertical-align: middle;\n",
       "    }\n",
       "\n",
       "    .dataframe tbody tr th {\n",
       "        vertical-align: top;\n",
       "    }\n",
       "\n",
       "    .dataframe thead th {\n",
       "        text-align: right;\n",
       "    }\n",
       "</style>\n",
       "<table border=\"1\" class=\"dataframe\">\n",
       "  <thead>\n",
       "    <tr style=\"text-align: right;\">\n",
       "      <th></th>\n",
       "      <th>type</th>\n",
       "      <th>posts</th>\n",
       "      <th>no. of. words</th>\n",
       "      <th>class</th>\n",
       "    </tr>\n",
       "  </thead>\n",
       "  <tbody>\n",
       "    <tr>\n",
       "      <th>110</th>\n",
       "      <td>ESTP</td>\n",
       "      <td>splinter cell blacklist  xbox     estps  gener...</td>\n",
       "      <td>67</td>\n",
       "      <td>3</td>\n",
       "    </tr>\n",
       "    <tr>\n",
       "      <th>155</th>\n",
       "      <td>ESTP</td>\n",
       "      <td>night   just moved here   from  about  year...</td>\n",
       "      <td>217</td>\n",
       "      <td>3</td>\n",
       "    </tr>\n",
       "    <tr>\n",
       "      <th>194</th>\n",
       "      <td>ESFP</td>\n",
       "      <td>edit  forgot what board this        currently ...</td>\n",
       "      <td>381</td>\n",
       "      <td>1</td>\n",
       "    </tr>\n",
       "    <tr>\n",
       "      <th>331</th>\n",
       "      <td>ESTP</td>\n",
       "      <td>know yourre  estp when yourre cooler than  ot...</td>\n",
       "      <td>172</td>\n",
       "      <td>3</td>\n",
       "    </tr>\n",
       "    <tr>\n",
       "      <th>376</th>\n",
       "      <td>ESTP</td>\n",
       "      <td>thank   reading   sorry  really long    really...</td>\n",
       "      <td>530</td>\n",
       "      <td>3</td>\n",
       "    </tr>\n",
       "  </tbody>\n",
       "</table>\n",
       "</div>"
      ],
      "text/plain": [
       "     type                                              posts  no. of. words  \\\n",
       "110  ESTP  splinter cell blacklist  xbox     estps  gener...             67   \n",
       "155  ESTP     night   just moved here   from  about  year...            217   \n",
       "194  ESFP  edit  forgot what board this        currently ...            381   \n",
       "331  ESTP   know yourre  estp when yourre cooler than  ot...            172   \n",
       "376  ESTP  thank   reading   sorry  really long    really...            530   \n",
       "\n",
       "     class  \n",
       "110      3  \n",
       "155      3  \n",
       "194      1  \n",
       "331      3  \n",
       "376      3  "
      ]
     },
     "execution_count": 81,
     "metadata": {},
     "output_type": "execute_result"
    }
   ],
   "source": [
    "# Making sure that label encoding successully binarized type column\n",
    "\n",
    "light_sample.head()"
   ]
  },
  {
   "cell_type": "code",
   "execution_count": 82,
   "metadata": {},
   "outputs": [
    {
     "name": "stdout",
     "output_type": "stream",
     "text": [
      "[3 1 2 0]\n"
     ]
    }
   ],
   "source": [
    "print(light_sample['class'].unique())"
   ]
  },
  {
   "cell_type": "markdown",
   "metadata": {},
   "source": [
    "Magnificent! We now have the four features with the least amount of posts."
   ]
  },
  {
   "cell_type": "code",
   "execution_count": 83,
   "metadata": {},
   "outputs": [
    {
     "data": {
      "text/plain": [
       "ESTP    0.410138\n",
       "ESFP    0.216590\n",
       "ESFJ    0.193548\n",
       "ESTJ    0.179724\n",
       "Name: type, dtype: float64"
      ]
     },
     "execution_count": 83,
     "metadata": {},
     "output_type": "execute_result"
    }
   ],
   "source": [
    "# Checking to see the class distributions. The light class is still imbalanced but significantly less so than the original dataframe.\n",
    "light_sample['type'].value_counts(normalize=True)"
   ]
  },
  {
   "cell_type": "markdown",
   "metadata": {},
   "source": [
    "### CountVectorizer"
   ]
  },
  {
   "cell_type": "code",
   "execution_count": 84,
   "metadata": {},
   "outputs": [],
   "source": [
    "# Preparing posts for model by vectorzing and filtering stop-words\n",
    "\n",
    "cvec = CountVectorizer(stop_words='english')\n",
    "\n",
    "X = cvec.fit_transform(light_sample['posts'])"
   ]
  },
  {
   "cell_type": "code",
   "execution_count": 85,
   "metadata": {},
   "outputs": [
    {
     "name": "stdout",
     "output_type": "stream",
     "text": [
      "Pre-Vectorized Shape: (217, 4)\n",
      "Post-Vectorized Shape: (217, 11774)\n"
     ]
    }
   ],
   "source": [
    "# pre-vectorized shape\n",
    "pre_vect = light_sample.shape\n",
    "# post-vectorized shape\n",
    "post_vect = X.shape\n",
    "\n",
    "print(f'Pre-Vectorized Shape: {pre_vect}')\n",
    "print(f'Post-Vectorized Shape: {post_vect}')"
   ]
  },
  {
   "cell_type": "markdown",
   "metadata": {},
   "source": [
    "### Train Test Split"
   ]
  },
  {
   "cell_type": "code",
   "execution_count": 86,
   "metadata": {},
   "outputs": [
    {
     "name": "stdout",
     "output_type": "stream",
     "text": [
      "(173, 11774) (173,) (44, 11774) (44,)\n"
     ]
    }
   ],
   "source": [
    "# Train test split\n",
    "\n",
    "X_train, X_test, y_train, y_test = train_test_split(X, y, \n",
    "                                                   test_size=0.2, stratify=y, random_state=42)\n",
    "\n",
    "print ((X_train.shape),(y_train.shape),(X_test.shape),(y_test.shape))"
   ]
  },
  {
   "cell_type": "code",
   "execution_count": 87,
   "metadata": {},
   "outputs": [],
   "source": [
    "# Starting an accuracies list here so I can compare the accuracies of all models by the end of the first round\n",
    "\n",
    "accuracies = {}"
   ]
  },
  {
   "cell_type": "markdown",
   "metadata": {},
   "source": [
    "## Logistic Regression\n",
    "---"
   ]
  },
  {
   "cell_type": "code",
   "execution_count": 88,
   "metadata": {},
   "outputs": [
    {
     "name": "stdout",
     "output_type": "stream",
     "text": [
      "              precision    recall  f1-score   support\n",
      "\n",
      "           0       0.75      0.38      0.50         8\n",
      "           1       0.44      0.40      0.42        10\n",
      "           2       0.40      0.25      0.31         8\n",
      "           3       0.62      0.89      0.73        18\n",
      "\n",
      "    accuracy                           0.57        44\n",
      "   macro avg       0.55      0.48      0.49        44\n",
      "weighted avg       0.56      0.57      0.54        44\n",
      "\n"
     ]
    }
   ],
   "source": [
    "# Instantiate the model\n",
    "logreg = LogisticRegression()\n",
    "\n",
    "# Fit the model on the training data\n",
    "logreg.fit(X_train, y_train)\n",
    "\n",
    "# Make predictions\n",
    "preds = logreg.predict(X_test)\n",
    "\n",
    "# Model evaluation\n",
    "report = classification_report(y_test, preds)\n",
    "\n",
    "# Append scores to accuracies list\n",
    "accuracy = accuracy_score(y_test, preds)\n",
    "accuracies['Logistic Regression'] = accuracy* 100.0 \n",
    "\n",
    "print(report)"
   ]
  },
  {
   "cell_type": "code",
   "execution_count": 89,
   "metadata": {},
   "outputs": [],
   "source": [
    "logreg_train = logreg.score(X_train, y_train)\n",
    "\n",
    "logreg_test = logreg.score(X_test, y_test)"
   ]
  },
  {
   "cell_type": "code",
   "execution_count": 90,
   "metadata": {},
   "outputs": [
    {
     "name": "stdout",
     "output_type": "stream",
     "text": [
      "Training Accuracy:  1.0\n",
      "Testing Accuracy:  0.5681818181818182\n"
     ]
    }
   ],
   "source": [
    "print(f'Training Accuracy:  {logreg_train}')\n",
    "print(f'Testing Accuracy:  {logreg_test}')"
   ]
  },
  {
   "cell_type": "markdown",
   "metadata": {},
   "source": [
    "## Multinomial Naive Bayes\n",
    "---"
   ]
  },
  {
   "cell_type": "code",
   "execution_count": 91,
   "metadata": {},
   "outputs": [
    {
     "name": "stdout",
     "output_type": "stream",
     "text": [
      "              precision    recall  f1-score   support\n",
      "\n",
      "           0       0.50      0.12      0.20         8\n",
      "           1       0.00      0.00      0.00        10\n",
      "           2       0.50      0.12      0.20         8\n",
      "           3       0.44      0.94      0.60        18\n",
      "\n",
      "    accuracy                           0.43        44\n",
      "   macro avg       0.36      0.30      0.25        44\n",
      "weighted avg       0.36      0.43      0.32        44\n",
      "\n"
     ]
    }
   ],
   "source": [
    "# Instantiate the model\n",
    "nb = MultinomialNB()\n",
    "\n",
    "# Fit the model on the training data\n",
    "nb.fit(X_train, y_train)\n",
    "\n",
    "# Make predictions\n",
    "preds = nb.predict(X_test)\n",
    "\n",
    "# Model evaluation\n",
    "report = classification_report(y_test, preds)\n",
    "\n",
    "# Append scores to accuracies list\n",
    "accuracy = accuracy_score(y_test, preds)\n",
    "accuracies['Multinomial Naive bayes'] = accuracy* 100.0 \n",
    "\n",
    "print(report)"
   ]
  },
  {
   "cell_type": "code",
   "execution_count": 92,
   "metadata": {},
   "outputs": [],
   "source": [
    "nb_train = nb.score(X_train, y_train)\n",
    "nb_test = nb.score(X_test, y_test)"
   ]
  },
  {
   "cell_type": "code",
   "execution_count": 93,
   "metadata": {},
   "outputs": [
    {
     "name": "stdout",
     "output_type": "stream",
     "text": [
      "Training Accuracy:  0.976878612716763\n",
      "Testing Accuracy:  0.4318181818181818\n"
     ]
    }
   ],
   "source": [
    "print(f'Training Accuracy:  {nb_train}')\n",
    "print(f'Testing Accuracy:  {nb_test}')"
   ]
  },
  {
   "cell_type": "markdown",
   "metadata": {},
   "source": [
    "## K Nearest Neighbors Classifier\n",
    "---"
   ]
  },
  {
   "cell_type": "code",
   "execution_count": 94,
   "metadata": {},
   "outputs": [
    {
     "name": "stdout",
     "output_type": "stream",
     "text": [
      "              precision    recall  f1-score   support\n",
      "\n",
      "           0       0.33      0.25      0.29         8\n",
      "           1       0.31      0.40      0.35        10\n",
      "           2       0.00      0.00      0.00         8\n",
      "           3       0.54      0.72      0.62        18\n",
      "\n",
      "    accuracy                           0.43        44\n",
      "   macro avg       0.30      0.34      0.31        44\n",
      "weighted avg       0.35      0.43      0.38        44\n",
      "\n"
     ]
    }
   ],
   "source": [
    "# Instantiate the model\n",
    "knn = KNeighborsClassifier()\n",
    "\n",
    "# Fit the model on the training data\n",
    "knn.fit(X_train, y_train)\n",
    "\n",
    "# Make predictions\n",
    "preds = knn.predict(X_test)\n",
    "\n",
    "# Model evaluation\n",
    "report = classification_report(y_test, preds)\n",
    "\n",
    "# Append scores to accuracies list\n",
    "accuracy = accuracy_score(y_test, preds)\n",
    "accuracies['KNN'] = accuracy* 100.0 \n",
    "\n",
    "print(report)"
   ]
  },
  {
   "cell_type": "code",
   "execution_count": 95,
   "metadata": {},
   "outputs": [],
   "source": [
    "knn_train = knn.score(X_train, y_train)\n",
    "knn_test = knn.score(X_test, y_test)"
   ]
  },
  {
   "cell_type": "code",
   "execution_count": 96,
   "metadata": {},
   "outputs": [
    {
     "name": "stdout",
     "output_type": "stream",
     "text": [
      "Training Accuracy:  1.0\n",
      "Testing Accuracy:  0.6233766233766234\n"
     ]
    }
   ],
   "source": [
    "print(f'Training Accuracy:  {rf_train}')\n",
    "print(f'Testing Accuracy:  {rf_test}')"
   ]
  },
  {
   "cell_type": "markdown",
   "metadata": {},
   "source": [
    "## Random Forest\n",
    "---"
   ]
  },
  {
   "cell_type": "code",
   "execution_count": 97,
   "metadata": {},
   "outputs": [
    {
     "name": "stdout",
     "output_type": "stream",
     "text": [
      "              precision    recall  f1-score   support\n",
      "\n",
      "           0       0.50      0.25      0.33         8\n",
      "           1       0.00      0.00      0.00        10\n",
      "           2       0.00      0.00      0.00         8\n",
      "           3       0.45      1.00      0.62        18\n",
      "\n",
      "    accuracy                           0.45        44\n",
      "   macro avg       0.24      0.31      0.24        44\n",
      "weighted avg       0.27      0.45      0.31        44\n",
      "\n"
     ]
    }
   ],
   "source": [
    "# Instantiate the model\n",
    "rf = RandomForestClassifier()\n",
    "\n",
    "# Fit the model on the training data\n",
    "rf.fit(X_train, y_train)\n",
    "\n",
    "# Make predictions\n",
    "preds = rf.predict(X_test)\n",
    "\n",
    "# Model evaluation\n",
    "report = classification_report(y_test, preds)\n",
    "\n",
    "# Append scores to accuracies list\n",
    "accuracy = accuracy_score(y_test, preds)\n",
    "accuracies['Random Forest'] = accuracy* 100.0 \n",
    "\n",
    "print(report)"
   ]
  },
  {
   "cell_type": "code",
   "execution_count": 98,
   "metadata": {},
   "outputs": [],
   "source": [
    "rf_train = rf.score(X_train, y_train)\n",
    "rf_test = rf.score(X_test, y_test)"
   ]
  },
  {
   "cell_type": "code",
   "execution_count": 99,
   "metadata": {},
   "outputs": [
    {
     "name": "stdout",
     "output_type": "stream",
     "text": [
      "Training Accuracy:  1.0\n",
      "Testing Accuracy:  0.45454545454545453\n"
     ]
    }
   ],
   "source": [
    "print(f'Training Accuracy:  {rf_train}')\n",
    "print(f'Testing Accuracy:  {rf_test}')"
   ]
  },
  {
   "cell_type": "markdown",
   "metadata": {},
   "source": [
    "## Model Evaluation\n",
    "---"
   ]
  },
  {
   "cell_type": "code",
   "execution_count": 100,
   "metadata": {},
   "outputs": [
    {
     "name": "stdout",
     "output_type": "stream",
     "text": [
      " Logistic Regression \n",
      "Training Accuracy:  1.0\n",
      "Testing Accuracy:  0.5681818181818182\n",
      "\n",
      " Multinomial Naive Bayes \n",
      "Training Accuracy:  0.976878612716763\n",
      "Testing Accuracy:  0.4318181818181818\n",
      "\n",
      " K Nearest Neighbors Classifier \n",
      "Training Accuracy:  0.5549132947976878\n",
      "Testing Accuracy:  0.4318181818181818\n",
      "\n",
      " Random Forest Classifier \n",
      "Training Accuracy:  1.0\n",
      "Testing Accuracy:  0.45454545454545453\n"
     ]
    }
   ],
   "source": [
    "# Model Scores\n",
    "print(\" Logistic Regression \".center(18, \"=\"))\n",
    "print(f'Training Accuracy:  {logreg_train}')\n",
    "print(f'Testing Accuracy:  {logreg_test}')\n",
    "print()\n",
    "print(\" Multinomial Naive Bayes \".center(18, \"=\"))\n",
    "print(f'Training Accuracy:  {nb_train}')\n",
    "print(f'Testing Accuracy:  {nb_test}')\n",
    "print()\n",
    "print(\" K Nearest Neighbors Classifier \".center(18, \"=\"))\n",
    "print(f'Training Accuracy:  {knn_train}')\n",
    "print(f'Testing Accuracy:  {knn_test}')\n",
    "print()\n",
    "print(\" Random Forest Classifier \".center(18, \"=\"))\n",
    "print(f'Training Accuracy:  {rf_train}')\n",
    "print(f'Testing Accuracy:  {rf_test}')"
   ]
  },
  {
   "cell_type": "code",
   "execution_count": 101,
   "metadata": {},
   "outputs": [
    {
     "data": {
      "text/html": [
       "<div>\n",
       "<style scoped>\n",
       "    .dataframe tbody tr th:only-of-type {\n",
       "        vertical-align: middle;\n",
       "    }\n",
       "\n",
       "    .dataframe tbody tr th {\n",
       "        vertical-align: top;\n",
       "    }\n",
       "\n",
       "    .dataframe thead th {\n",
       "        text-align: right;\n",
       "    }\n",
       "</style>\n",
       "<table border=\"1\" class=\"dataframe\">\n",
       "  <thead>\n",
       "    <tr style=\"text-align: right;\">\n",
       "      <th></th>\n",
       "      <th>Accuracies(%)</th>\n",
       "    </tr>\n",
       "  </thead>\n",
       "  <tbody>\n",
       "    <tr>\n",
       "      <th>Logistic Regression</th>\n",
       "      <td>56.818182</td>\n",
       "    </tr>\n",
       "    <tr>\n",
       "      <th>Multinomial Naive bayes</th>\n",
       "      <td>43.181818</td>\n",
       "    </tr>\n",
       "    <tr>\n",
       "      <th>KNN</th>\n",
       "      <td>43.181818</td>\n",
       "    </tr>\n",
       "    <tr>\n",
       "      <th>Random Forest</th>\n",
       "      <td>45.454545</td>\n",
       "    </tr>\n",
       "  </tbody>\n",
       "</table>\n",
       "</div>"
      ],
      "text/plain": [
       "                         Accuracies(%)\n",
       "Logistic Regression          56.818182\n",
       "Multinomial Naive bayes      43.181818\n",
       "KNN                          43.181818\n",
       "Random Forest                45.454545"
      ]
     },
     "execution_count": 101,
     "metadata": {},
     "output_type": "execute_result"
    }
   ],
   "source": [
    "accuracies_df = pd.DataFrame.from_dict(accuracies, orient='index', columns=['Accuracies(%)'])\n",
    "accuracies_df"
   ]
  },
  {
   "cell_type": "code",
   "execution_count": 102,
   "metadata": {},
   "outputs": [
    {
     "data": {
      "image/png": "[encoded data removed]",
      "text/plain": [
       "<Figure size 1152x360 with 1 Axes>"
      ]
     },
     "metadata": {},
     "output_type": "display_data"
    }
   ],
   "source": [
    "#colors = [\"salmon\", \"blue\", \"green\", \"magenta\"]\n",
    "\n",
    "sns.set_style(\"whitegrid\")\n",
    "plt.figure(figsize=(16,5))\n",
    "plt.yticks(np.arange(0,100,10))\n",
    "plt.ylabel(\"Accuracy %\")\n",
    "plt.xlabel(\"Algorithms\")\n",
    "sns.barplot(x=list(accuracies.keys()), y=list(accuracies.values()), palette='crest')\n",
    "plt.show()"
   ]
  },
  {
   "cell_type": "code",
   "execution_count": null,
   "metadata": {},
   "outputs": [],
   "source": []
  },
  {
   "cell_type": "code",
   "execution_count": null,
   "metadata": {},
   "outputs": [],
   "source": []
  }
 ],
 "metadata": {
  "kernelspec": {
   "display_name": "Python 3",
   "language": "python",
   "name": "python3"
  },
  "language_info": {
   "codemirror_mode": {
    "name": "ipython",
    "version": 3
   },
   "file_extension": ".py",
   "mimetype": "text/x-python",
   "name": "python",
   "nbconvert_exporter": "python",
   "pygments_lexer": "ipython3",
   "version": "3.7.6"
  }
 },
 "nbformat": 4,
 "nbformat_minor": 4
}
