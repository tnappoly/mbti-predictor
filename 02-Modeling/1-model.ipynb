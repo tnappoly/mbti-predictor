{
 "cells": [
  {
   "cell_type": "markdown",
   "metadata": {},
   "source": [
    "# Modeling - Rd. 1\n",
    "---\n",
    "\n",
    "This notebook contains my first round of modeling using a handful of models from the sklearn library that I deemed appropriate for Natural Language Processing (NLP)."
   ]
  },
  {
   "cell_type": "markdown",
   "metadata": {},
   "source": [
    "## Imports"
   ]
  },
  {
   "cell_type": "code",
   "execution_count": 1,
   "metadata": {},
   "outputs": [],
   "source": [
    "# Data Analysis\n",
    "import pandas as pd\n",
    "import numpy as np\n",
    "\n",
    "# Data Visualization\n",
    "import seaborn as sns\n",
    "import matplotlib.pyplot as plt\n",
    "\n",
    "# Text Processing\n",
    "from sklearn.preprocessing import LabelEncoder\n",
    "from nltk.corpus import stopwords\n",
    "\n",
    "# Machine Learning packages\n",
    "from sklearn.feature_extraction.text import CountVectorizer\n",
    "\n",
    "# Model training and evaluation\n",
    "from sklearn.model_selection import train_test_split\n",
    "from sklearn.metrics import classification_report, accuracy_score\n",
    "\n",
    "# Models\n",
    "from sklearn.linear_model import LogisticRegression\n",
    "from sklearn.naive_bayes import MultinomialNB\n",
    "from sklearn.neighbors import KNeighborsClassifier\n",
    "from sklearn.ensemble import RandomForestClassifier\n"
   ]
  },
  {
   "cell_type": "markdown",
   "metadata": {},
   "source": [
    "### Load in data"
   ]
  },
  {
   "cell_type": "code",
   "execution_count": 2,
   "metadata": {},
   "outputs": [
    {
     "data": {
      "text/html": [
       "<div>\n",
       "<style scoped>\n",
       "    .dataframe tbody tr th:only-of-type {\n",
       "        vertical-align: middle;\n",
       "    }\n",
       "\n",
       "    .dataframe tbody tr th {\n",
       "        vertical-align: top;\n",
       "    }\n",
       "\n",
       "    .dataframe thead th {\n",
       "        text-align: right;\n",
       "    }\n",
       "</style>\n",
       "<table border=\"1\" class=\"dataframe\">\n",
       "  <thead>\n",
       "    <tr style=\"text-align: right;\">\n",
       "      <th></th>\n",
       "      <th>type</th>\n",
       "      <th>posts</th>\n",
       "      <th>no. of. words</th>\n",
       "    </tr>\n",
       "  </thead>\n",
       "  <tbody>\n",
       "    <tr>\n",
       "      <th>0</th>\n",
       "      <td>INFJ</td>\n",
       "      <td>enfp  intj moments   sportscenter    plays...</td>\n",
       "      <td>344</td>\n",
       "    </tr>\n",
       "    <tr>\n",
       "      <th>1</th>\n",
       "      <td>ENTP</td>\n",
       "      <td>finding  lack    these posts very alarming   ...</td>\n",
       "      <td>639</td>\n",
       "    </tr>\n",
       "    <tr>\n",
       "      <th>2</th>\n",
       "      <td>INTP</td>\n",
       "      <td>good         course  which    know thats  bles...</td>\n",
       "      <td>215</td>\n",
       "    </tr>\n",
       "    <tr>\n",
       "      <th>3</th>\n",
       "      <td>INTJ</td>\n",
       "      <td>dear intp    enjoyed  conversation  other    e...</td>\n",
       "      <td>611</td>\n",
       "    </tr>\n",
       "    <tr>\n",
       "      <th>4</th>\n",
       "      <td>ENTJ</td>\n",
       "      <td>youre fired    thats another silly misconcepti...</td>\n",
       "      <td>315</td>\n",
       "    </tr>\n",
       "  </tbody>\n",
       "</table>\n",
       "</div>"
      ],
      "text/plain": [
       "   type                                              posts  no. of. words\n",
       "0  INFJ      enfp  intj moments   sportscenter    plays...            344\n",
       "1  ENTP   finding  lack    these posts very alarming   ...            639\n",
       "2  INTP  good         course  which    know thats  bles...            215\n",
       "3  INTJ  dear intp    enjoyed  conversation  other    e...            611\n",
       "4  ENTJ  youre fired    thats another silly misconcepti...            315"
      ]
     },
     "execution_count": 2,
     "metadata": {},
     "output_type": "execute_result"
    }
   ],
   "source": [
    "df = pd.read_csv('../data/clean_mbti_df.csv')\n",
    "df.head()"
   ]
  },
  {
   "cell_type": "markdown",
   "metadata": {},
   "source": [
    "## Feature Engineering"
   ]
  },
  {
   "cell_type": "markdown",
   "metadata": {},
   "source": [
    "### Splitting data into X and y"
   ]
  },
  {
   "cell_type": "markdown",
   "metadata": {},
   "source": [
    "Binarizing target classes using LabelEncoder to convert categorical variables into a numeric form. Can very well accomplish using .map, .getdummies, .where functions. Utilizing a new tool to show yet another method of binarizing variables."
   ]
  },
  {
   "cell_type": "markdown",
   "metadata": {},
   "source": [
    "#### Binarizing target variables"
   ]
  },
  {
   "cell_type": "code",
   "execution_count": 3,
   "metadata": {},
   "outputs": [],
   "source": [
    "# Binarizing MBTI personality types(target feature) using LabelEncoder\n",
    "\n",
    "encoder = LabelEncoder()\n",
    "df['class'] = encoder.fit_transform(df['type'])\n",
    "\n",
    "# Defining y (target feature)\n",
    "y = df['class']"
   ]
  },
  {
   "cell_type": "code",
   "execution_count": 4,
   "metadata": {},
   "outputs": [
    {
     "name": "stdout",
     "output_type": "stream",
     "text": [
      "16\n",
      "16\n"
     ]
    }
   ],
   "source": [
    "# Making sure that label encoding successully binarized type column\n",
    "\n",
    "print(len(df['class'].unique()))\n",
    "print(len(df['class'].unique()))\n"
   ]
  },
  {
   "cell_type": "code",
   "execution_count": 5,
   "metadata": {},
   "outputs": [
    {
     "data": {
      "text/html": [
       "<div>\n",
       "<style scoped>\n",
       "    .dataframe tbody tr th:only-of-type {\n",
       "        vertical-align: middle;\n",
       "    }\n",
       "\n",
       "    .dataframe tbody tr th {\n",
       "        vertical-align: top;\n",
       "    }\n",
       "\n",
       "    .dataframe thead th {\n",
       "        text-align: right;\n",
       "    }\n",
       "</style>\n",
       "<table border=\"1\" class=\"dataframe\">\n",
       "  <thead>\n",
       "    <tr style=\"text-align: right;\">\n",
       "      <th></th>\n",
       "      <th>type</th>\n",
       "      <th>posts</th>\n",
       "      <th>no. of. words</th>\n",
       "      <th>class</th>\n",
       "    </tr>\n",
       "  </thead>\n",
       "  <tbody>\n",
       "    <tr>\n",
       "      <th>0</th>\n",
       "      <td>INFJ</td>\n",
       "      <td>enfp  intj moments   sportscenter    plays...</td>\n",
       "      <td>344</td>\n",
       "      <td>8</td>\n",
       "    </tr>\n",
       "    <tr>\n",
       "      <th>1</th>\n",
       "      <td>ENTP</td>\n",
       "      <td>finding  lack    these posts very alarming   ...</td>\n",
       "      <td>639</td>\n",
       "      <td>3</td>\n",
       "    </tr>\n",
       "    <tr>\n",
       "      <th>2</th>\n",
       "      <td>INTP</td>\n",
       "      <td>good         course  which    know thats  bles...</td>\n",
       "      <td>215</td>\n",
       "      <td>11</td>\n",
       "    </tr>\n",
       "    <tr>\n",
       "      <th>3</th>\n",
       "      <td>INTJ</td>\n",
       "      <td>dear intp    enjoyed  conversation  other    e...</td>\n",
       "      <td>611</td>\n",
       "      <td>10</td>\n",
       "    </tr>\n",
       "    <tr>\n",
       "      <th>4</th>\n",
       "      <td>ENTJ</td>\n",
       "      <td>youre fired    thats another silly misconcepti...</td>\n",
       "      <td>315</td>\n",
       "      <td>2</td>\n",
       "    </tr>\n",
       "    <tr>\n",
       "      <th>5</th>\n",
       "      <td>INTJ</td>\n",
       "      <td>science    perfect   scientist claims tha...</td>\n",
       "      <td>189</td>\n",
       "      <td>10</td>\n",
       "    </tr>\n",
       "    <tr>\n",
       "      <th>6</th>\n",
       "      <td>INFJ</td>\n",
       "      <td>cant draw    nails haha  those were done  pr...</td>\n",
       "      <td>775</td>\n",
       "      <td>8</td>\n",
       "    </tr>\n",
       "    <tr>\n",
       "      <th>7</th>\n",
       "      <td>INTJ</td>\n",
       "      <td>tend  build   collection  things   desktop th...</td>\n",
       "      <td>118</td>\n",
       "      <td>10</td>\n",
       "    </tr>\n",
       "    <tr>\n",
       "      <th>8</th>\n",
       "      <td>INFJ</td>\n",
       "      <td>sure thats  good question   distinction betw...</td>\n",
       "      <td>422</td>\n",
       "      <td>8</td>\n",
       "    </tr>\n",
       "    <tr>\n",
       "      <th>9</th>\n",
       "      <td>INTP</td>\n",
       "      <td>this position where  have  actually     pe...</td>\n",
       "      <td>106</td>\n",
       "      <td>11</td>\n",
       "    </tr>\n",
       "  </tbody>\n",
       "</table>\n",
       "</div>"
      ],
      "text/plain": [
       "   type                                              posts  no. of. words  \\\n",
       "0  INFJ      enfp  intj moments   sportscenter    plays...            344   \n",
       "1  ENTP   finding  lack    these posts very alarming   ...            639   \n",
       "2  INTP  good         course  which    know thats  bles...            215   \n",
       "3  INTJ  dear intp    enjoyed  conversation  other    e...            611   \n",
       "4  ENTJ  youre fired    thats another silly misconcepti...            315   \n",
       "5  INTJ       science    perfect   scientist claims tha...            189   \n",
       "6  INFJ    cant draw    nails haha  those were done  pr...            775   \n",
       "7  INTJ   tend  build   collection  things   desktop th...            118   \n",
       "8  INFJ    sure thats  good question   distinction betw...            422   \n",
       "9  INTP      this position where  have  actually     pe...            106   \n",
       "\n",
       "   class  \n",
       "0      8  \n",
       "1      3  \n",
       "2     11  \n",
       "3     10  \n",
       "4      2  \n",
       "5     10  \n",
       "6      8  \n",
       "7     10  \n",
       "8      8  \n",
       "9     11  "
      ]
     },
     "execution_count": 5,
     "metadata": {},
     "output_type": "execute_result"
    }
   ],
   "source": [
    "df.head(10)"
   ]
  },
  {
   "cell_type": "markdown",
   "metadata": {},
   "source": [
    "As you can see, the label encoder successfully gave numeric values to to each personality type and created a target column labeled 'class'."
   ]
  },
  {
   "cell_type": "code",
   "execution_count": 6,
   "metadata": {},
   "outputs": [
    {
     "data": {
      "text/plain": [
       "(8436, 4)"
      ]
     },
     "execution_count": 6,
     "metadata": {},
     "output_type": "execute_result"
    }
   ],
   "source": [
    "# Pre-vectorized shape\n",
    "df.shape"
   ]
  },
  {
   "cell_type": "markdown",
   "metadata": {},
   "source": [
    "#### CountVectorizer"
   ]
  },
  {
   "cell_type": "code",
   "execution_count": 7,
   "metadata": {},
   "outputs": [],
   "source": [
    "# Preparing posts for model by vectorzing and filtering stop-words\n",
    "\n",
    "cvec = CountVectorizer(stop_words='english')\n",
    "\n",
    "X = cvec.fit_transform(df['posts'])"
   ]
  },
  {
   "cell_type": "code",
   "execution_count": 8,
   "metadata": {},
   "outputs": [
    {
     "data": {
      "text/plain": [
       "(8436, 98546)"
      ]
     },
     "execution_count": 8,
     "metadata": {},
     "output_type": "execute_result"
    }
   ],
   "source": [
    "# Post-vectorized shape\n",
    "X.shape"
   ]
  },
  {
   "cell_type": "markdown",
   "metadata": {},
   "source": [
    "Dimensionality has increased after vectorization"
   ]
  },
  {
   "cell_type": "markdown",
   "metadata": {},
   "source": [
    "---"
   ]
  },
  {
   "cell_type": "markdown",
   "metadata": {},
   "source": [
    "## Modeling"
   ]
  },
  {
   "cell_type": "code",
   "execution_count": 9,
   "metadata": {},
   "outputs": [],
   "source": [
    "# Use this bit of code to prevent long error messages, but be mindful that you may not see a message worth looking into when debugging code\n",
    "\n",
    "import warnings\n",
    "warnings.filterwarnings(\"ignore\")"
   ]
  },
  {
   "cell_type": "code",
   "execution_count": 10,
   "metadata": {},
   "outputs": [
    {
     "name": "stdout",
     "output_type": "stream",
     "text": [
      "(6748, 98546) (6748,) (1688, 98546) (1688,)\n"
     ]
    }
   ],
   "source": [
    "# Train test split\n",
    "\n",
    "X_train, X_test, y_train, y_test = train_test_split(X, y, \n",
    "                                                   test_size=0.2, stratify=y, random_state=42)\n",
    "\n",
    "print ((X_train.shape),(y_train.shape),(X_test.shape),(y_test.shape))"
   ]
  },
  {
   "cell_type": "code",
   "execution_count": 11,
   "metadata": {},
   "outputs": [],
   "source": [
    "# Starting an accuracies list here so I can compare the accuracies of all models by the end of the first round\n",
    "\n",
    "accuracies = {}\n"
   ]
  },
  {
   "cell_type": "markdown",
   "metadata": {},
   "source": [
    "### Logistic Regression\n",
    "---"
   ]
  },
  {
   "cell_type": "code",
   "execution_count": 12,
   "metadata": {},
   "outputs": [
    {
     "name": "stdout",
     "output_type": "stream",
     "text": [
      "              precision    recall  f1-score   support\n",
      "\n",
      "           0       0.40      0.22      0.29        36\n",
      "           1       0.45      0.43      0.44       127\n",
      "           2       0.39      0.29      0.33        45\n",
      "           3       0.50      0.45      0.47       133\n",
      "           4       0.80      0.50      0.62         8\n",
      "           5       0.50      0.11      0.18         9\n",
      "           6       0.00      0.00      0.00         8\n",
      "           7       0.25      0.06      0.09        18\n",
      "           8       0.53      0.61      0.57       287\n",
      "           9       0.55      0.67      0.60       354\n",
      "          10       0.50      0.56      0.53       215\n",
      "          11       0.52      0.52      0.52       256\n",
      "          12       0.50      0.33      0.40        33\n",
      "          13       0.52      0.28      0.37        53\n",
      "          14       0.52      0.30      0.38        40\n",
      "          15       0.61      0.50      0.55        66\n",
      "\n",
      "    accuracy                           0.52      1688\n",
      "   macro avg       0.47      0.36      0.40      1688\n",
      "weighted avg       0.51      0.52      0.51      1688\n",
      "\n"
     ]
    }
   ],
   "source": [
    "# Instantiate the model\n",
    "logreg = LogisticRegression()\n",
    "\n",
    "# Fit the model on the training data\n",
    "logreg.fit(X_train, y_train)\n",
    "\n",
    "# Make predictions\n",
    "preds = logreg.predict(X_test)\n",
    "\n",
    "# Model evaluation\n",
    "report = classification_report(y_test, preds)\n",
    "\n",
    "# Append scores to accuracies list\n",
    "accuracy = accuracy_score(y_test, preds)\n",
    "accuracies['Logistic Regression'] = accuracy* 100.0 \n",
    "\n",
    "print(report)"
   ]
  },
  {
   "cell_type": "code",
   "execution_count": 13,
   "metadata": {},
   "outputs": [],
   "source": [
    "logreg_train = logreg.score(X_train, y_train)"
   ]
  },
  {
   "cell_type": "code",
   "execution_count": 14,
   "metadata": {},
   "outputs": [],
   "source": [
    "logreg_test = logreg.score(X_test, y_test)"
   ]
  },
  {
   "cell_type": "code",
   "execution_count": 15,
   "metadata": {},
   "outputs": [
    {
     "name": "stdout",
     "output_type": "stream",
     "text": [
      "Training Accuracy:  0.9997036158861885\n",
      "Testing Accuracy:  0.5195497630331753\n"
     ]
    }
   ],
   "source": [
    "print(f'Training Accuracy:  {logreg_train}')\n",
    "print(f'Testing Accuracy:  {logreg_test}')"
   ]
  },
  {
   "cell_type": "markdown",
   "metadata": {},
   "source": [
    "### Multinomial Naive Bayes\n",
    "---"
   ]
  },
  {
   "cell_type": "code",
   "execution_count": 16,
   "metadata": {},
   "outputs": [
    {
     "name": "stdout",
     "output_type": "stream",
     "text": [
      "              precision    recall  f1-score   support\n",
      "\n",
      "           0       0.00      0.00      0.00        36\n",
      "           1       0.00      0.00      0.00       127\n",
      "           2       0.00      0.00      0.00        45\n",
      "           3       0.50      0.01      0.01       133\n",
      "           4       0.00      0.00      0.00         8\n",
      "           5       0.00      0.00      0.00         9\n",
      "           6       0.00      0.00      0.00         8\n",
      "           7       0.00      0.00      0.00        18\n",
      "           8       0.43      0.49      0.46       287\n",
      "           9       0.33      0.86      0.48       354\n",
      "          10       0.55      0.24      0.33       215\n",
      "          11       0.41      0.55      0.47       256\n",
      "          12       0.00      0.00      0.00        33\n",
      "          13       0.00      0.00      0.00        53\n",
      "          14       0.00      0.00      0.00        40\n",
      "          15       0.50      0.02      0.03        66\n",
      "\n",
      "    accuracy                           0.38      1688\n",
      "   macro avg       0.17      0.14      0.11      1688\n",
      "weighted avg       0.33      0.38      0.29      1688\n",
      "\n"
     ]
    }
   ],
   "source": [
    "# Instantiate the model\n",
    "nb = MultinomialNB()\n",
    "\n",
    "# Fit the model on the training data\n",
    "nb.fit(X_train, y_train)\n",
    "\n",
    "# Make predictions\n",
    "preds = nb.predict(X_test)\n",
    "\n",
    "# Model evaluation\n",
    "report = classification_report(y_test, preds)\n",
    "\n",
    "# Append scores to accuracies list\n",
    "accuracy = accuracy_score(y_test, preds)\n",
    "accuracies['Multinomial Naive bayes'] = accuracy* 100.0 \n",
    "\n",
    "print(report)"
   ]
  },
  {
   "cell_type": "code",
   "execution_count": 17,
   "metadata": {},
   "outputs": [],
   "source": [
    "nb_train = nb.score(X_train, y_train)\n",
    "nb_test = nb.score(X_test, y_test)"
   ]
  },
  {
   "cell_type": "code",
   "execution_count": 18,
   "metadata": {},
   "outputs": [
    {
     "name": "stdout",
     "output_type": "stream",
     "text": [
      "Training Accuracy:  0.6499703615886189\n",
      "Testing Accuracy:  0.3791469194312796\n"
     ]
    }
   ],
   "source": [
    "print(f'Training Accuracy:  {nb_train}')\n",
    "print(f'Testing Accuracy:  {nb_test}')"
   ]
  },
  {
   "cell_type": "markdown",
   "metadata": {},
   "source": [
    "### K Nearest Neighbors Classifier\n",
    "---"
   ]
  },
  {
   "cell_type": "code",
   "execution_count": 19,
   "metadata": {},
   "outputs": [
    {
     "name": "stdout",
     "output_type": "stream",
     "text": [
      "              precision    recall  f1-score   support\n",
      "\n",
      "           0       0.05      0.19      0.08        36\n",
      "           1       0.12      0.42      0.18       127\n",
      "           2       0.08      0.02      0.04        45\n",
      "           3       0.13      0.16      0.15       133\n",
      "           4       0.00      0.00      0.00         8\n",
      "           5       0.12      0.11      0.12         9\n",
      "           6       0.00      0.00      0.00         8\n",
      "           7       0.00      0.00      0.00        18\n",
      "           8       0.25      0.34      0.29       287\n",
      "           9       0.31      0.33      0.32       354\n",
      "          10       0.33      0.10      0.16       215\n",
      "          11       0.58      0.10      0.17       256\n",
      "          12       0.00      0.00      0.00        33\n",
      "          13       0.00      0.00      0.00        53\n",
      "          14       0.60      0.07      0.13        40\n",
      "          15       0.36      0.08      0.12        66\n",
      "\n",
      "    accuracy                           0.21      1688\n",
      "   macro avg       0.18      0.12      0.11      1688\n",
      "weighted avg       0.29      0.21      0.20      1688\n",
      "\n"
     ]
    }
   ],
   "source": [
    "# Instantiate the model\n",
    "knn = KNeighborsClassifier()\n",
    "\n",
    "# Fit the model on the training data\n",
    "knn.fit(X_train, y_train)\n",
    "\n",
    "# Make predictions\n",
    "preds = knn.predict(X_test)\n",
    "\n",
    "# Model evaluation\n",
    "report = classification_report(y_test, preds)\n",
    "\n",
    "# Append scores to accuracies list\n",
    "accuracy = accuracy_score(y_test, preds)\n",
    "accuracies['KNN'] = accuracy* 100.0 \n",
    "\n",
    "print(report)"
   ]
  },
  {
   "cell_type": "code",
   "execution_count": 20,
   "metadata": {},
   "outputs": [],
   "source": [
    "knn_train = knn.score(X_train, y_train)\n",
    "knn_test = knn.score(X_test, y_test)"
   ]
  },
  {
   "cell_type": "code",
   "execution_count": 21,
   "metadata": {},
   "outputs": [
    {
     "name": "stdout",
     "output_type": "stream",
     "text": [
      "Training Accuracy:  0.46147006520450506\n",
      "Testing Accuracy:  0.20912322274881517\n"
     ]
    }
   ],
   "source": [
    "print(f'Training Accuracy:  {knn_train}')\n",
    "print(f'Testing Accuracy:  {knn_test}')"
   ]
  },
  {
   "cell_type": "markdown",
   "metadata": {},
   "source": [
    "### Random Forest Classifier\n",
    "---"
   ]
  },
  {
   "cell_type": "code",
   "execution_count": 22,
   "metadata": {},
   "outputs": [
    {
     "name": "stdout",
     "output_type": "stream",
     "text": [
      "              precision    recall  f1-score   support\n",
      "\n",
      "           0       0.00      0.00      0.00        36\n",
      "           1       0.50      0.06      0.11       127\n",
      "           2       0.00      0.00      0.00        45\n",
      "           3       0.42      0.08      0.13       133\n",
      "           4       0.00      0.00      0.00         8\n",
      "           5       0.00      0.00      0.00         9\n",
      "           6       0.00      0.00      0.00         8\n",
      "           7       0.00      0.00      0.00        18\n",
      "           8       0.42      0.51      0.46       287\n",
      "           9       0.32      0.86      0.47       354\n",
      "          10       0.58      0.35      0.43       215\n",
      "          11       0.48      0.43      0.45       256\n",
      "          12       0.00      0.00      0.00        33\n",
      "          13       0.00      0.00      0.00        53\n",
      "          14       0.00      0.00      0.00        40\n",
      "          15       0.00      0.00      0.00        66\n",
      "\n",
      "    accuracy                           0.39      1688\n",
      "   macro avg       0.17      0.14      0.13      1688\n",
      "weighted avg       0.36      0.39      0.32      1688\n",
      "\n"
     ]
    }
   ],
   "source": [
    "# Instantiate the model\n",
    "rf = RandomForestClassifier()\n",
    "\n",
    "# Fit the model on the training data\n",
    "rf.fit(X_train, y_train)\n",
    "\n",
    "# Make predictions\n",
    "preds = rf.predict(X_test)\n",
    "\n",
    "# Model evaluation\n",
    "report = classification_report(y_test, preds)\n",
    "\n",
    "# Append scores to accuracies list\n",
    "accuracy = accuracy_score(y_test, preds)\n",
    "accuracies['Random Forest'] = accuracy* 100.0 \n",
    "\n",
    "print(report)"
   ]
  },
  {
   "cell_type": "code",
   "execution_count": 23,
   "metadata": {},
   "outputs": [],
   "source": [
    "rf_train = rf.score(X_train, y_train)\n",
    "rf_test = rf.score(X_test, y_test)"
   ]
  },
  {
   "cell_type": "code",
   "execution_count": 24,
   "metadata": {},
   "outputs": [
    {
     "name": "stdout",
     "output_type": "stream",
     "text": [
      "Training Accuracy:  1.0\n",
      "Testing Accuracy:  0.38566350710900477\n"
     ]
    }
   ],
   "source": [
    "print(f'Training Accuracy:  {rf_train}')\n",
    "print(f'Testing Accuracy:  {rf_test}')"
   ]
  },
  {
   "cell_type": "markdown",
   "metadata": {},
   "source": [
    "## Model Evaluation\n",
    "---"
   ]
  },
  {
   "cell_type": "code",
   "execution_count": 25,
   "metadata": {},
   "outputs": [
    {
     "name": "stdout",
     "output_type": "stream",
     "text": [
      " Logistic Regression \n",
      "Training Accuracy:  0.9997036158861885\n",
      "Testing Accuracy:  0.5195497630331753\n",
      "\n",
      " Multinomial Naive Bayes \n",
      "Training Accuracy:  0.6499703615886189\n",
      "Testing Accuracy:  0.3791469194312796\n",
      "\n",
      " K Nearest Neighbors Classifier \n",
      "Training Accuracy:  0.46147006520450506\n",
      "Testing Accuracy:  0.20912322274881517\n",
      "\n",
      " Random Forest Classifier \n",
      "Training Accuracy:  1.0\n",
      "Testing Accuracy:  0.38566350710900477\n"
     ]
    }
   ],
   "source": [
    "# Model Scores\n",
    "print(\" Logistic Regression \".center(18, \"=\"))\n",
    "print(f'Training Accuracy:  {logreg_train}')\n",
    "print(f'Testing Accuracy:  {logreg_test}')\n",
    "print()\n",
    "print(\" Multinomial Naive Bayes \".center(18, \"=\"))\n",
    "print(f'Training Accuracy:  {nb_train}')\n",
    "print(f'Testing Accuracy:  {nb_test}')\n",
    "print()\n",
    "print(\" K Nearest Neighbors Classifier \".center(18, \"=\"))\n",
    "print(f'Training Accuracy:  {knn_train}')\n",
    "print(f'Testing Accuracy:  {knn_test}')\n",
    "print()\n",
    "print(\" Random Forest Classifier \".center(18, \"=\"))\n",
    "print(f'Training Accuracy:  {rf_train}')\n",
    "print(f'Testing Accuracy:  {rf_test}')"
   ]
  },
  {
   "cell_type": "code",
   "execution_count": 26,
   "metadata": {},
   "outputs": [
    {
     "data": {
      "text/html": [
       "<div>\n",
       "<style scoped>\n",
       "    .dataframe tbody tr th:only-of-type {\n",
       "        vertical-align: middle;\n",
       "    }\n",
       "\n",
       "    .dataframe tbody tr th {\n",
       "        vertical-align: top;\n",
       "    }\n",
       "\n",
       "    .dataframe thead th {\n",
       "        text-align: right;\n",
       "    }\n",
       "</style>\n",
       "<table border=\"1\" class=\"dataframe\">\n",
       "  <thead>\n",
       "    <tr style=\"text-align: right;\">\n",
       "      <th></th>\n",
       "      <th>Accuracies(%)</th>\n",
       "    </tr>\n",
       "  </thead>\n",
       "  <tbody>\n",
       "    <tr>\n",
       "      <th>Logistic Regression</th>\n",
       "      <td>51.954976</td>\n",
       "    </tr>\n",
       "    <tr>\n",
       "      <th>Multinomial Naive bayes</th>\n",
       "      <td>37.914692</td>\n",
       "    </tr>\n",
       "    <tr>\n",
       "      <th>KNN</th>\n",
       "      <td>20.912322</td>\n",
       "    </tr>\n",
       "    <tr>\n",
       "      <th>Random Forest</th>\n",
       "      <td>38.566351</td>\n",
       "    </tr>\n",
       "  </tbody>\n",
       "</table>\n",
       "</div>"
      ],
      "text/plain": [
       "                         Accuracies(%)\n",
       "Logistic Regression          51.954976\n",
       "Multinomial Naive bayes      37.914692\n",
       "KNN                          20.912322\n",
       "Random Forest                38.566351"
      ]
     },
     "execution_count": 26,
     "metadata": {},
     "output_type": "execute_result"
    }
   ],
   "source": [
    "accuracies_df = pd.DataFrame.from_dict(accuracies, orient='index', columns=['Accuracies(%)'])\n",
    "accuracies_df"
   ]
  },
  {
   "cell_type": "code",
   "execution_count": 34,
   "metadata": {},
   "outputs": [
    {
     "data": {
      "image/png": "[encoded data removed]",
      "text/plain": [
       "<Figure size 1152x360 with 1 Axes>"
      ]
     },
     "metadata": {},
     "output_type": "display_data"
    }
   ],
   "source": [
    "#colors = [\"salmon\", \"red\", \"pink\", \"lavender\"]\n",
    "# palette='pastel'\n",
    "sns.set_style(\"whitegrid\")\n",
    "#sns.color_palette(\"flare\", as_cmap=True)\n",
    "\n",
    "plt.figure(figsize=(16,5))\n",
    "plt.yticks(np.arange(0,100,10))\n",
    "plt.ylabel(\"Accuracy %\")\n",
    "plt.xlabel(\"Algorithms\")\n",
    "sns.barplot(x=list(accuracies.keys()), y=list(accuracies.values()), palette='pastel')\n",
    "plt.show()"
   ]
  },
  {
   "cell_type": "code",
   "execution_count": null,
   "metadata": {},
   "outputs": [],
   "source": []
  }
 ],
 "metadata": {
  "kernelspec": {
   "display_name": "Python 3",
   "language": "python",
   "name": "python3"
  },
  "language_info": {
   "codemirror_mode": {
    "name": "ipython",
    "version": 3
   },
   "file_extension": ".py",
   "mimetype": "text/x-python",
   "name": "python",
   "nbconvert_exporter": "python",
   "pygments_lexer": "ipython3",
   "version": "3.7.6"
  }
 },
 "nbformat": 4,
 "nbformat_minor": 4
}
